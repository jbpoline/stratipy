{
 "cells": [
  {
   "cell_type": "markdown",
   "metadata": {},
   "source": [
    "#Scikit-Learn NMF\n",
    "Test the [Scikit-Learn](http://scikit-learn.org) implementation of NMF and propose an adaptation for GNMF."
   ]
  },
  {
   "cell_type": "code",
   "execution_count": 0,
   "metadata": {
    "collapsed": false
   },
   "outputs": [],
   "source": [
    "# Basic init & import\n",
    "%pylab inline\n",
    "import networkx as nx\n",
    "import numpy as np\n",
    "\n",
    "# Usefull functions\n",
    "def extractMutationProfile(PPI):\n",
    "    return [float(PPI.node[gene]['val']) for gene in PPI.nodes()]"
   ]
  },
  {
   "cell_type": "code",
   "execution_count": 0,
   "metadata": {
    "collapsed": false
   },
   "outputs": [],
   "source": [
    "# Load datasets with diffused mutation profiles\n",
    "newDataset=False\n",
    "dataFolder='data/'\n",
    "\n",
    "import pickle\n",
    "file = open(dataFolder+'datasetDiffused.txt', 'r')\n",
    "data = pickle.load(file)\n",
    "PPI=data['PPI']\n",
    "patients=data['patients']\n",
    "patientsDiffused=data['patientsDiffused']\n",
    "phenotypes=data['phenotypes']\n",
    "pathwaysNum=data['pathwaysNum']\n",
    "genesNum=data['genesNum']\n",
    "connProbability=data['connProbability']\n",
    "connNeighboors=data['connNeighboors']\n",
    "connBetweenPathways=data['connBetweenPathways']\n",
    "patientsNum=data['patientsNum']\n",
    "mutationProb=data['mutationProb']\n",
    "diffusionFactor=data['diffusionFactor']\n",
    "file.close()"
   ]
  },
  {
   "cell_type": "markdown",
   "metadata": {},
   "source": [
    "#Test original Scikit-Learn NMF\n",
    "[Link to Scikit-Learn documentation](http://scikit-learn.org/stable/modules/generated/sklearn.decomposition.NMF.html)"
   ]
  },
  {
   "cell_type": "code",
   "execution_count": 0,
   "metadata": {
    "collapsed": false
   },
   "outputs": [],
   "source": [
    "# Classical Non-Negative Matrix Factorization (NMF)\n",
    "from sklearn.decomposition import ProjectedGradientNMF\n",
    "model = ProjectedGradientNMF(n_components=pathwaysNum, init='random', random_state=0)\n",
    "model.fit(np.matrix(patientsDiffused))\n",
    "NMFComponents=model.components_"
   ]
  },
  {
   "cell_type": "code",
   "execution_count": 0,
   "metadata": {
    "collapsed": false
   },
   "outputs": [],
   "source": [
    "# Visualization of the NMF components\n",
    "plt.figure(1,figsize=(12,8))\n",
    "pos=nx.graphviz_layout(PPI,prog=\"neato\")\n",
    "for cn in range(0,6):\n",
    "    node_color=NMFComponents[cn]\n",
    "    plt.subplot(2, 3, cn+1)\n",
    "    nx.draw(PPI,pos,with_labels=False,node_size=50,node_color=node_color,cmap = plt.cm.Blues)\n",
    "plt.show()"
   ]
  },
  {
   "cell_type": "code",
   "execution_count": 0,
   "metadata": {
    "collapsed": false
   },
   "outputs": [],
   "source": [
    "# Sparse Non-Negative Matrix Factorization (NMF)\n",
    "model = ProjectedGradientNMF(n_components=pathwaysNum, init='random', random_state=0, sparseness='data')\n",
    "model.fit(np.matrix(patientsDiffused))\n",
    "SparseNMFComponents=model.components_"
   ]
  },
  {
   "cell_type": "code",
   "execution_count": 0,
   "metadata": {
    "collapsed": false
   },
   "outputs": [],
   "source": [
    "# Visualization of the sparse NMF components\n",
    "plt.figure(1,figsize=(12,8))\n",
    "pos=nx.graphviz_layout(PPI,prog=\"neato\")\n",
    "for cn in range(0,6):\n",
    "    node_color=SparseNMFComponents[cn]\n",
    "    plt.subplot(2, 3, cn+1)\n",
    "    nx.draw(PPI,pos,with_labels=False,node_size=50,node_color=node_color,cmap = plt.cm.Blues)\n",
    "plt.show()"
   ]
  },
  {
   "cell_type": "markdown",
   "metadata": {},
   "source": [
    "# Adaptated GNMF from Scikit-Learn NMF\n",
    "[Link to Scikit-Learn source code](https://github.com/scikit-learn/scikit-learn/blob/bb39b49/sklearn/decomposition/nmf.py#L584)"
   ]
  },
  {
   "cell_type": "code",
   "execution_count": 0,
   "metadata": {
    "collapsed": true
   },
   "outputs": [],
   "source": [
    "## Reuse scikit-learn functions\n",
    "import scipy.sparse as sp\n",
    "from sklearn.utils import atleast2d_or_csr, check_random_state, check_arrays\n",
    "from sklearn.utils.extmath import randomized_svd, safe_sparse_dot\n",
    "\n",
    "def check_non_negative(X, whom):\n",
    "    X = X.data if sp.issparse(X) else X\n",
    "    if (X < 0).any():\n",
    "        raise ValueError(\"Negative values in data passed to %s\" % whom)\n",
    "\n",
    "def _sparseness(x):\n",
    "    \"\"\"Hoyer's measure of sparsity for a vector\"\"\"\n",
    "    sqrt_n = np.sqrt(len(x))\n",
    "    return (sqrt_n - np.linalg.norm(x, 1) / norm(x)) / (sqrt_n - 1)\n",
    "\n",
    "def safe_vstack(Xs):\n",
    "    if any(sp.issparse(X) for X in Xs):\n",
    "        return sp.vstack(Xs)\n",
    "    else:\n",
    "        return np.vstack(Xs)\n",
    "\n",
    "def NBS_init(X,n_components,init=None):\n",
    "        n_samples, n_features = X.shape\n",
    "        if init is None:\n",
    "            if n_components < n_features:\n",
    "                init = 'nndsvd'\n",
    "            else:\n",
    "                init = 'random'\n",
    "\n",
    "\n",
    "        if init == 'nndsvd':\n",
    "            W, H = _initialize_nmf(X, n_components)\n",
    "        elif init == \"random\":\n",
    "            rng = check_random_state(random_state)\n",
    "            W = rng.randn(n_samples, n_components)\n",
    "            # we do not write np.abs(W, out=W) to stay compatible with\n",
    "            # numpy 1.5 and earlier where the 'out' keyword is not\n",
    "            # supported as a kwarg on ufuncs\n",
    "            np.abs(W, W)\n",
    "            H = rng.randn(n_components, n_features)\n",
    "            np.abs(H, H)\n",
    "        else:\n",
    "            raise ValueError(\n",
    "                'Invalid init parameter: got %r instead of one of %r' %\n",
    "                (init, (None, 'nndsvd', 'nndsvda', 'nndsvdar', 'random')))\n",
    "        return W, H\n",
    "\n",
    "def _initialize_nmf(X, n_components, variant=None, eps=1e-6,\n",
    "                    random_state=None):\n",
    "    \"\"\"NNDSVD algorithm for NMF initialization.\n",
    "\n",
    "    Computes a good initial guess for the non-negative\n",
    "    rank k matrix approximation for X: X = WH\n",
    "\n",
    "    Parameters\n",
    "    ----------\n",
    "\n",
    "    X : array, [n_samples, n_features]\n",
    "        The data matrix to be decomposed.\n",
    "\n",
    "    n_components : array, [n_components, n_features]\n",
    "        The number of components desired in the approximation.\n",
    "\n",
    "    variant : None | 'a' | 'ar'\n",
    "        The variant of the NNDSVD algorithm.\n",
    "        Accepts None, 'a', 'ar'\n",
    "        None: leaves the zero entries as zero\n",
    "        'a': Fills the zero entries with the average of X\n",
    "        'ar': Fills the zero entries with standard normal random variates.\n",
    "        Default: None\n",
    "\n",
    "    eps: float\n",
    "        Truncate all values less then this in output to zero.\n",
    "\n",
    "    random_state : numpy.RandomState | int, optional\n",
    "        The generator used to fill in the zeros, when using variant='ar'\n",
    "        Default: numpy.random\n",
    "\n",
    "    Returns\n",
    "    -------\n",
    "\n",
    "    (W, H) :\n",
    "        Initial guesses for solving X ~= WH such that\n",
    "        the number of columns in W is n_components.\n",
    "\n",
    "    Remarks\n",
    "    -------\n",
    "\n",
    "    This implements the algorithm described in\n",
    "    C. Boutsidis, E. Gallopoulos: SVD based\n",
    "    initialization: A head start for nonnegative\n",
    "    matrix factorization - Pattern Recognition, 2008\n",
    "\n",
    "    http://tinyurl.com/nndsvd\n",
    "    \"\"\"\n",
    "    check_non_negative(X, \"NMF initialization\")\n",
    "    if variant not in (None, 'a', 'ar'):\n",
    "        raise ValueError(\"Invalid variant name\")\n",
    "\n",
    "    U, S, V = randomized_svd(X, n_components)\n",
    "    W, H = np.zeros(U.shape), np.zeros(V.shape)\n",
    "\n",
    "    # The leading singular triplet is non-negative\n",
    "    # so it can be used as is for initialization.\n",
    "    W[:, 0] = np.sqrt(S[0]) * np.abs(U[:, 0])\n",
    "    H[0, :] = np.sqrt(S[0]) * np.abs(V[0, :])\n",
    "\n",
    "    for j in range(1, n_components):\n",
    "        x, y = U[:, j], V[j, :]\n",
    "\n",
    "        # extract positive and negative parts of column vectors\n",
    "        x_p, y_p = np.maximum(x, 0), np.maximum(y, 0)\n",
    "        x_n, y_n = np.abs(np.minimum(x, 0)), np.abs(np.minimum(y, 0))\n",
    "\n",
    "        # and their norms\n",
    "        x_p_nrm, y_p_nrm = norm(x_p), norm(y_p)\n",
    "        x_n_nrm, y_n_nrm = norm(x_n), norm(y_n)\n",
    "\n",
    "        m_p, m_n = x_p_nrm * y_p_nrm, x_n_nrm * y_n_nrm\n",
    "\n",
    "        # choose update\n",
    "        if m_p > m_n:\n",
    "            u = x_p / x_p_nrm\n",
    "            v = y_p / y_p_nrm\n",
    "            sigma = m_p\n",
    "        else:\n",
    "            u = x_n / x_n_nrm\n",
    "            v = y_n / y_n_nrm\n",
    "            sigma = m_n\n",
    "\n",
    "        lbd = np.sqrt(S[j] * sigma)\n",
    "        W[:, j] = lbd * u\n",
    "        H[j, :] = lbd * v\n",
    "\n",
    "    W[W < eps] = 0\n",
    "    H[H < eps] = 0\n",
    "\n",
    "    if variant == \"a\":\n",
    "        avg = X.mean()\n",
    "        W[W == 0] = avg\n",
    "        H[H == 0] = avg\n",
    "    elif variant == \"ar\":\n",
    "        random_state = check_random_state(random_state)\n",
    "        avg = X.mean()\n",
    "        W[W == 0] = abs(avg * random_state.randn(len(W[W == 0])) / 100)\n",
    "        H[H == 0] = abs(avg * random_state.randn(len(H[H == 0])) / 100)\n",
    "\n",
    "    return W, H"
   ]
  },
  {
   "cell_type": "code",
   "execution_count": 0,
   "metadata": {
    "collapsed": false
   },
   "outputs": [],
   "source": [
    "# Adapted version of the NMF function to integrate graph-regularization\n",
    "#\n",
    "# See:\n",
    "# https://github.com/luispedro/milk/blob/master/milk/unsupervised/nnmf/lee_seung.py\n",
    "# https://www.researchgate.net/profile/Zhigang_Luo/publication/258350768_Limited-memory_fast_gradient_descent_method_for_graph_regularized_nonnegative_matrix_factorization/links/0c9605282f7f611648000000.pdf\n",
    "\n",
    "def GNMF(X,L,lambd=0,n_components=None,tol=1e-4,max_iter=100,verbose=False):      \n",
    "        X = atleast2d_or_csr(X)\n",
    "        check_non_negative(X, \"NMF.fit\")\n",
    "        n_samples, n_features = X.shape\n",
    "  \n",
    "        if not n_components:\n",
    "            n_components = n_features\n",
    "        else:\n",
    "            n_components = n_components\n",
    "  \n",
    "        #W, H = NBS_init(X,n_components)\n",
    "        W = np.random.normal(0,1,(n_samples,n_components))**2\n",
    "        H = np.random.normal(0,1,(n_components,n_features))**2\n",
    "        \n",
    "        reconstruction_err_ = norm(X - np.dot(W, H))\n",
    "        eps=1e-4#spacing(1) #10e-14\n",
    "        Lp = (abs(L)+L)/2\n",
    "        Lm = (abs(L)-L)/2\n",
    "       \n",
    "        for n_iter in range(1, max_iter + 1):\n",
    "            if verbose:\n",
    "                print \"Iteration =\", n_iter,\"/\",max_iter, \"— Error =\", reconstruction_err_,\"/\",tol\n",
    "            \n",
    "            h1=lambd*np.dot(H,Lm)+np.dot(W.T,(X+eps)/(np.dot(W,H)+eps))\n",
    "            h2=lambd*np.dot(H,Lp)+np.dot(W.T,np.ones(shape(X)))\n",
    "            H = multiply(H,(h1+eps)/(h2+eps))\n",
    "            H[H<=0]=eps\n",
    "            H[np.isnan(H)]=eps\n",
    "            \n",
    "            w1=np.dot((X+eps)/(np.dot(W,H)+eps),H.T)\n",
    "            w2=np.dot(np.ones(shape(X)),H.T)\n",
    "            W = multiply(W,(w1+eps)/(w2+eps))\n",
    "            W[H<=0]=eps\n",
    "            W[np.isnan(W)]=eps            \n",
    "            \n",
    "            if not sp.issparse(X):\n",
    "                if reconstruction_err_ > norm(X - np.dot(W, H)):\n",
    "                    H=(1-eps)*H+eps*np.random.normal(0,1,(n_components,n_features))**2\n",
    "                    W=(1-eps)*W+eps*np.random.normal(0,1,(n_samples,n_components))**2\n",
    "                reconstruction_err_ = norm(X - np.dot(W, H))\n",
    "            else:\n",
    "                norm2X = np.sum(X.data ** 2)  # Ok because X is CSR\n",
    "                normWHT = np.trace(np.dot(np.dot(H.T, np.dot(W.T, W)), H))\n",
    "                cross_prod = np.trace(np.dot((X * H.T).T, W))\n",
    "                reconstruction_err_ = sqrt(norm2X + normWHT - 2. * cross_prod)\n",
    "                    \n",
    "            if reconstruction_err_<tol:\n",
    "                warnings.warn(\"Tolerance error reached during fit\")\n",
    "                break\n",
    "            \n",
    "            if numpy.isnan(W).any() or numpy.isnan(H).any():\n",
    "                warnings.warn(\"NaN values at \"+ str(n_iter)+\" Error=\"+str(reconstruction_err_))\n",
    "                break\n",
    "                              \n",
    "            if n_iter == max_iter:\n",
    "                warnings.warn(\"Iteration limit reached during fit\")\n",
    "  \n",
    "        return np.squeeze(np.asarray(W)), np.squeeze(np.asarray(H)), reconstruction_err_"
   ]
  },
  {
   "cell_type": "code",
   "execution_count": 0,
   "metadata": {
    "collapsed": false
   },
   "outputs": [],
   "source": [
    "# With graph structure\n",
    "PPIAdjacencyMatrix=nx.to_numpy_matrix(PPI)\n",
    "W, StratipyGNMFComponents, error = GNMF(np.matrix(patientsDiffused),PPIAdjacencyMatrix,0.5,n_components=pathwaysNum,tol=1e-4,max_iter=10000,verbose=False)"
   ]
  },
  {
   "cell_type": "code",
   "execution_count": 0,
   "metadata": {
    "collapsed": false
   },
   "outputs": [],
   "source": [
    "# Visualization of the GNMF components\n",
    "plt.figure(1,figsize=(12,8))\n",
    "pos=nx.graphviz_layout(PPI,prog=\"neato\")\n",
    "for cn in range(0,6):\n",
    "    node_color=StratipyGNMFComponents[cn]\n",
    "    plt.subplot(2, 3, cn+1)\n",
    "    nx.draw(PPI,pos,with_labels=False,node_size=50,node_color=node_color,cmap = plt.cm.Blues)\n",
    "plt.show()"
   ]
  },
  {
   "cell_type": "code",
   "execution_count": 0,
   "metadata": {
    "collapsed": false
   },
   "outputs": [],
   "source": [
    "# Without graph structure (lambda = 0)\n",
    "W, StratipyNGNMFComponents, error = GNMF(np.matrix(patientsDiffused),PPIAdjacencyMatrix,0.,n_components=pathwaysNum,tol=1e-4,max_iter=1000,verbose=False)"
   ]
  },
  {
   "cell_type": "code",
   "execution_count": 0,
   "metadata": {
    "collapsed": false
   },
   "outputs": [],
   "source": [
    "# Visualization of the GNMF components without graph structure\n",
    "plt.figure(1,figsize=(12,8))\n",
    "pos=nx.graphviz_layout(PPI,prog=\"neato\")\n",
    "for cn in range(0,6):\n",
    "    node_color=StratipyNGNMFComponents[cn]\n",
    "    plt.subplot(2, 3, cn+1)\n",
    "    nx.draw(PPI,pos,with_labels=False,node_size=50,node_color=node_color,cmap = plt.cm.Blues)\n",
    "plt.show()"
   ]
  }
 ],
 "metadata": {
  "kernelspec": {
   "display_name": "Python 2",
   "language": "python",
   "name": "python2"
  },
  "language_info": {
   "codemirror_mode": {
    "name": "ipython",
    "version": 2
   },
   "file_extension": ".py",
   "mimetype": "text/x-python",
   "name": "python",
   "nbconvert_exporter": "python",
   "pygments_lexer": "ipython2",
   "version": "2.7.10"
  }
 },
 "nbformat": 4,
 "nbformat_minor": 0
}
