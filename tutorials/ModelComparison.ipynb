{
 "cells": [
  {
   "cell_type": "markdown",
   "metadata": {},
   "source": [
    "# [Work in progress] Compar"
   ]
  },
  {
   "cell_type": "code",
   "execution_count": 0,
   "metadata": {
    "collapsed": true
   },
   "outputs": [],
   "source": [
    "# Confusion matrix and mesure of the sparsness of the results\n",
    "from sklearn.metrics import confusion_matrix\n",
    "T=matrix(T).astype('float')\n",
    "T=T/np.max(T)\n",
    "proj=np.dot(sklearnComp,np.matrix([val(g) for g in P]).T)\n",
    "proj=proj/np.max(proj)\n",
    "CM=confusion_matrix(array(np.squeeze((T*(networksNum-1)).astype('int')))[0], array(proj.argmax(axis=0))[0])\n",
    "plt.figure(1,figsize=(16,10))\n",
    "plt.subplot(1, 3, 1)\n",
    "plt.imshow(CM, interpolation=\"nearest\") \n",
    "plt.title('NMF='+str(_sparseness(proj)))\n",
    "proj=np.dot(sklearnComp2,np.matrix([val(g) for g in P]).T)\n",
    "proj=proj/np.max(proj)\n",
    "CM=confusion_matrix(array(np.squeeze((T*(networksNum-1)).astype('int')))[0], array(proj.argmax(axis=0))[0])\n",
    "plt.subplot(1, 3, 2)\n",
    "plt.imshow(CM, interpolation=\"nearest\") \n",
    "plt.title('Sparse NMF='+str(_sparseness(proj)))\n",
    "proj=np.dot(stratipyCompG,np.matrix([val(g) for g in P]).T)\n",
    "proj=proj/np.max(proj)\n",
    "CM=confusion_matrix(array(np.squeeze((T*(networksNum-1)).astype('int')))[0], array(proj.argmax(axis=0))[0])\n",
    "plt.subplot(1, 3, 3)\n",
    "plt.imshow(CM, interpolation=\"nearest\") \n",
    "plt.title('GNMF='+str(_sparseness(proj)))\n",
    "plt.show()"
   ]
  }
 ],
 "metadata": {
  "kernelspec": {
   "display_name": "Python 2",
   "language": "python",
   "name": "python2"
  },
  "language_info": {
   "codemirror_mode": {
    "name": "ipython",
    "version": 2
   },
   "file_extension": ".py",
   "mimetype": "text/x-python",
   "name": "python",
   "nbconvert_exporter": "python",
   "pygments_lexer": "ipython2",
   "version": "2.7.9"
  }
 },
 "nbformat": 4,
 "nbformat_minor": 0
}
