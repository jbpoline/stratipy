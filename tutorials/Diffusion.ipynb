{
 "cells": [
  {
   "cell_type": "code",
   "execution_count": 0,
   "metadata": {
    "collapsed": false
   },
   "outputs": [],
   "source": [
    "# Basic init & import\n",
    "%pylab inline\n",
    "import networkx as nx\n",
    "import numpy as np"
   ]
  },
  {
   "cell_type": "code",
   "execution_count": 0,
   "metadata": {
    "collapsed": false
   },
   "outputs": [],
   "source": [
    "# Store dataset or load a previous one?\n",
    "newDataset=False\n",
    "dataFolder='data/'\n",
    "\n",
    "import pickle\n",
    "file = open(dataFolder+'dataset.txt', 'r')\n",
    "data = pickle.load(file)\n",
    "PPI=data['PPI']\n",
    "patients=data['patients']\n",
    "phenotypes=data['phenotypes']\n",
    "pathwaysNum=data['pathwaysNum']\n",
    "genesNum=data['genesNum']\n",
    "connProbability=data['connProbability']\n",
    "connNeighboors=data['connNeighboors']\n",
    "connBetweenPathways=data['connBetweenPathways']\n",
    "patientsNum=data['patientsNum']\n",
    "mutationProb=data['mutationProb']\n",
    "file.close()"
   ]
  },
  {
   "cell_type": "code",
   "execution_count": 0,
   "metadata": {
    "collapsed": true
   },
   "outputs": [],
   "source": [
    "# Diffusion of the mutations according to PPI topology\n",
    "PPIAdjacencyMatrix=nx.to_numpy_matrix(PPI)\n",
    "\n",
    "def mutationProfileDiffusion(mutationProfile,PPIAdjacencyMatrix,diffusionFactor):\n",
    "    tmp=np.array(PPIAdjacencyMatrix.sum(axis=0))\n",
    "    tmp[tmp==0]=1\n",
    "    A=PPIAdjacencyMatrix*np.diagflat(1./tmp)\n",
    "    X1=mutationProfile\n",
    "    X2=diffusionFactor*X1*A+(1-diffusionFactor)*mutationProfile\n",
    "    while norm(X2-X1)>10e-6:\n",
    "        X1=X2\n",
    "        X2=diffusionFactor*X1*A+(1-diffusionFactor)*mutationProfile\n",
    "    return X2"
   ]
  },
  {
   "cell_type": "code",
   "execution_count": 0,
   "metadata": {
    "collapsed": false
   },
   "outputs": [],
   "source": [
    "diffusionFactor=0.8\n",
    "# Usefull functions\n",
    "def assignMutation(PPI,mutationProfile):\n",
    "\tfor gene in range(0,len(PPI)):\n",
    "\t\tPPI.node[gene]['val']=mutationProfile[gene]\n",
    "\treturn PPI\n",
    "\n",
    "def extractMutationProfile(PPI):\n",
    "    return [float(PPI.node[gene]['val']) for gene in PPI.nodes()]\n",
    "\n",
    "patientsDiffused=mutationProfileDiffusion(patients,PPIAdjacencyMatrix,diffusionFactor)"
   ]
  },
  {
   "cell_type": "code",
   "execution_count": 0,
   "metadata": {
    "collapsed": false,
    "scrolled": true
   },
   "outputs": [],
   "source": [
    "# Visualization of the patients networks after diffusion\n",
    "#import matplotlib.pyplot as plt\n",
    "plt.figure(1,figsize=(12,12))\n",
    "pos=nx.graphviz_layout(PPI,prog=\"neato\")\n",
    "for pn in range(0,patientsNum):\n",
    "    plt.subplot(10, 6, pn+1)\n",
    "    nx.draw(PPI,pos,with_labels=False,node_size=30,node_color=np.array(patientsDiffused[pn,:]),cmap = plt.cm.Blues)\n",
    "plt.show()"
   ]
  },
  {
   "cell_type": "code",
   "execution_count": 0,
   "metadata": {
    "collapsed": true
   },
   "outputs": [],
   "source": [
    "# Store diffused dataset?\n",
    "newDataset=True\n",
    "\n",
    "if newDataset:\n",
    "    file = open(dataFolder+'datasetDiffused.txt', 'w')\n",
    "    data = {'PPI': PPI, 'patients' : patients, 'patientsDiffused' : patientsDiffused, 'phenotypes': phenotypes, 'pathwaysNum': pathwaysNum,'genesNum': genesNum,'connProbability': connProbability,'connNeighboors': connNeighboors,'connBetweenPathways': connBetweenPathways,'patientsNum': patientsNum,'mutationProb': mutationProb,'diffusionFactor': diffusionFactor}\n",
    "    pathwaysNum,genesNum,connProbability,connNeighboors,connBetweenPathways,patientsNum,mutationProb\n",
    "    pickle.dump(data, file)\n",
    "file.close()"
   ]
  }
 ],
 "metadata": {
  "kernelspec": {
   "display_name": "Python 2",
   "language": "python",
   "name": "python2"
  },
  "language_info": {
   "codemirror_mode": {
    "name": "ipython",
    "version": 2
   },
   "file_extension": ".py",
   "mimetype": "text/x-python",
   "name": "python",
   "nbconvert_exporter": "python",
   "pygments_lexer": "ipython2",
   "version": "2.7.10"
  }
 },
 "nbformat": 4,
 "nbformat_minor": 0
}
