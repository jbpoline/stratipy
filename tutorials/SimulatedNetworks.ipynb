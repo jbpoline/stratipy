{
 "cells": [
  {
   "cell_type": "markdown",
   "metadata": {},
   "source": [
    "# Simulation of mutated pathways based on real data"
   ]
  },
  {
   "cell_type": "code",
   "execution_count": 0,
   "metadata": {
    "collapsed": false
   },
   "outputs": [],
   "source": [
    "import community\n",
    "import networkx as nx\n",
    "import matplotlib.pyplot as plt"
   ]
  },
  {
   "cell_type": "code",
   "execution_count": 0,
   "metadata": {
    "collapsed": true
   },
   "outputs": [],
   "source": [
    "from scipy.io import loadmat\n",
    "dataFolder='data/'\n",
    "\n",
    "# Patients' somatic mutation profiles\n",
    "somatic = loadmat(dataFolder+'somatic_data_UCEC.mat')\n",
    "samples_id = [k[0][0][:12] for k in somatic['sample_id']]\n",
    "# Patients' full phenotypes\n",
    "phenotypes = loadmat(dataFolder+'UCEC_clinical_phenotype.mat')\n",
    "patients = [c[0][0] for c in phenotypes['UCECppheno'][0][0][0]]\n",
    "tmp = [c[0][0] for c in phenotypes['UCECppheno'][0][0][10]]\n",
    "cancer = [tmp[patients.index(p)] for p in samples_id]\n",
    "tmp = [c[0][0] for c in phenotypes['UCECppheno'][0][0][17]]\n",
    "grade = [tmp[patients.index(p)] for p in samples_id]\n",
    "\n",
    "# Adjacency matrix\n",
    "network = loadmat(dataFolder+'adj_mat.mat')\n",
    "# Correspondance between matrices rows number and entrez id\n",
    "entrez_to_idmat = loadmat(dataFolder+'entrez_to_idmat.mat')\n",
    "\n",
    "mutations=somatic['gene_indiv_mat']\n",
    "mutations.shape\n",
    "\n",
    "net=network['adj_mat']\n",
    "net.shape\n",
    "\n",
    "keys=[x[0] for x in entrez_to_idmat['keymat'][0]]\n",
    "ids=[x[0][0] for x in entrez_to_idmat['entrezid'][0]]\n",
    "genes = [x[0] for x in somatic['gene_id_all']]\n",
    "\n",
    "import numpy as np\n",
    "l=[]\n",
    "subnet=[]\n",
    "good=[]\n",
    "bad=[]\n",
    "for j,g in enumerate(genes):\n",
    "    try:\n",
    "        i=ids.index(g)\n",
    "        subnet.append(i)\n",
    "        good.append(j)\n",
    "    except:\n",
    "        i=np.nan\n",
    "        bad.append(j)\n",
    "    l.append(i)\n",
    "    \n",
    "nnet=net[subnet][:,subnet]\n",
    "nnet=nnet.todense()-np.diag(np.diag(nnet.todense()))\n",
    "nnnet=np.bmat([[np.matrix(nnet), np.matrix(np.zeros([nnet.shape[0],len(bad)]))], [np.matrix(np.zeros([len(bad),nnet.shape[0]])), np.matrix(np.diagflat(np.zeros(len(bad))))]])\n"
   ]
  },
  {
   "cell_type": "code",
   "execution_count": 0,
   "metadata": {
    "collapsed": false
   },
   "outputs": [],
   "source": [
    "nnnet"
   ]
  },
  {
   "cell_type": "code",
   "execution_count": 0,
   "metadata": {
    "collapsed": true
   },
   "outputs": [],
   "source": [
    "PPI = nx.from_numpy_matrix(nnnet)"
   ]
  },
  {
   "cell_type": "code",
   "execution_count": 0,
   "metadata": {
    "collapsed": true
   },
   "outputs": [],
   "source": [
    "communities = community.best_partition(PPI)"
   ]
  },
  {
   "cell_type": "code",
   "execution_count": 0,
   "metadata": {
    "collapsed": false
   },
   "outputs": [],
   "source": [
    "#drawing\n",
    "size = float(len(set(communities.values())))\n",
    "pos = nx.spring_layout(PPI)\n",
    "count = 0.\n",
    "for com in set(communities.values()) :\n",
    "    count = count + 1.\n",
    "    list_nodes = [nodes for nodes in communities.keys()\n",
    "                                if communities[nodes] == com]\n",
    "    nx.draw_networkx_nodes(PPI, pos, list_nodes, node_size = 20,\n",
    "                                node_color = str(count / size))\n",
    "\n",
    "\n",
    "nx.draw_networkx_edges(PPI,pos, alpha=0.5)\n",
    "plt.show()"
   ]
  },
  {
   "cell_type": "code",
   "execution_count": 0,
   "metadata": {
    "collapsed": false
   },
   "outputs": [],
   "source": [
    "singletons = 0\n",
    "sizeComs=[]\n",
    "for com in set(communities.values()) :\n",
    "    list_nodes = [nodes for nodes in communities.keys() if communities[nodes] == com]\n",
    "    sizeCom = len(list_nodes)\n",
    "    sizeComs.append(sizeCom)\n",
    "    if sizeCom>1:\n",
    "        print com, sizeCom\n",
    "    else:\n",
    "        singletons=singletons+1\n",
    "print \"singletons\", singletons "
   ]
  },
  {
   "cell_type": "code",
   "execution_count": 0,
   "metadata": {
    "collapsed": false
   },
   "outputs": [],
   "source": [
    "for s in np.sort(list(set(sizeComs))):\n",
    "    print s, np.sum(np.array(s)==sizeComs)"
   ]
  },
  {
   "cell_type": "code",
   "execution_count": 0,
   "metadata": {
    "collapsed": false
   },
   "outputs": [],
   "source": [
    "dendo = community.generate_dendogram(PPI)"
   ]
  },
  {
   "cell_type": "code",
   "execution_count": 0,
   "metadata": {
    "collapsed": false,
    "scrolled": true
   },
   "outputs": [],
   "source": [
    "for level in range(len(dendo)-1) :\n",
    "    tmp = community.partition_at_level(dendo, level)\n",
    "    coms = set([tmp[k] for k in tmp.keys()])\n",
    "    print \"partition at level\", level, \"is\", len(coms)"
   ]
  },
  {
   "cell_type": "code",
   "execution_count": 0,
   "metadata": {
    "collapsed": true
   },
   "outputs": [],
   "source": []
  }
 ],
 "metadata": {
  "kernelspec": {
   "display_name": "Python 2",
   "language": "python",
   "name": "python2"
  },
  "language_info": {
   "codemirror_mode": {
    "name": "ipython",
    "version": 2
   },
   "file_extension": ".py",
   "mimetype": "text/x-python",
   "name": "python",
   "nbconvert_exporter": "python",
   "pygments_lexer": "ipython2",
   "version": "2.7.10"
  }
 },
 "nbformat": 4,
 "nbformat_minor": 0
}
