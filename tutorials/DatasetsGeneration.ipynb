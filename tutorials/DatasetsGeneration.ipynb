{
 "cells": [
  {
   "cell_type": "markdown",
   "metadata": {},
   "source": [
    "# Generate testing datasets\n",
    "Here the nodes are Genes and links are seen as Protein-Protein Interaction, where clusters mimic pathways. Each simulated patients presents mutations on a specific \"pathway\".\n",
    "\n",
    "The dataset is saved as a pickle file at the end."
   ]
  },
  {
   "cell_type": "code",
   "execution_count": 0,
   "metadata": {
    "collapsed": false
   },
   "outputs": [],
   "source": [
    "# Basic init & import\n",
    "%pylab inline\n",
    "import networkx as nx\n",
    "import numpy as np"
   ]
  },
  {
   "cell_type": "code",
   "execution_count": 0,
   "metadata": {
    "collapsed": true
   },
   "outputs": [],
   "source": [
    "# Pathways parameters\n",
    "pathwaysNum=6;\n",
    "genesNum=12;\n",
    "connProbability=0.4;\n",
    "connNeighboors=4;\n",
    "connBetweenPathways=2;"
   ]
  },
  {
   "cell_type": "code",
   "execution_count": 0,
   "metadata": {
    "collapsed": false
   },
   "outputs": [],
   "source": [
    "# Pathways are initialized as independant Watts-Strogatz networks ...\n",
    "def shiftNodeId(x):\n",
    "    return x+genesNum*n\n",
    "\n",
    "pathways=[]\n",
    "for n in range(0,pathwaysNum):\n",
    "    pathway=nx.connected_watts_strogatz_graph(genesNum,connNeighboors,connProbability)\n",
    "    pathway=nx.relabel_nodes(pathway,shiftNodeId)\n",
    "    pathways.append(pathway)\n",
    "    \n",
    "PPI=nx.union_all(pathways)"
   ]
  },
  {
   "cell_type": "code",
   "execution_count": 0,
   "metadata": {
    "collapsed": false
   },
   "outputs": [],
   "source": [
    "# ... which are connected together afterward.\n",
    "def addBetweenPathwaysConnection(PPI,genesNum,pathwaysNum):\n",
    "    # Select randomly two different pathways\n",
    "    n1=np.random.randint(pathwaysNum)\n",
    "    n2=n1\n",
    "    while n2 == n1:\n",
    "        n2=np.random.randint(pathwaysNum)\n",
    "    # Connect them\n",
    "    PPI.add_edge(np.random.randint(genesNum)+n1*genesNum,np.random.randint(genesNum)+n2*genesNum)\n",
    "    return PPI\n",
    "\n",
    "for BetweenPathwaysConnection in range(0,pathwaysNum*connBetweenPathways):\n",
    "    PPI=addBetweenPathwaysConnection(PPI,genesNum,pathwaysNum)"
   ]
  },
  {
   "cell_type": "code",
   "execution_count": 0,
   "metadata": {
    "collapsed": false
   },
   "outputs": [],
   "source": [
    "#import matplotlib.pyplot as plt\n",
    "plt.figure(1,figsize=(8,8))\n",
    "pos=nx.graphviz_layout(PPI,prog=\"neato\")\n",
    "nx.draw(PPI,pos,with_labels=False,node_size=30,cmap = plt.cm.Blues)\n",
    "plt.show()"
   ]
  },
  {
   "cell_type": "code",
   "execution_count": 0,
   "metadata": {
    "collapsed": false
   },
   "outputs": [],
   "source": [
    "# Simulate patients with a specific mutation profile\n",
    "patientsNum=60;\n",
    "mutationProb=0.2;\n",
    "\n",
    "def generateMutationProfile(genesNum,pathwaysNum):\n",
    "    mutationProfile=np.zeros(pathwaysNum*genesNum)\n",
    "    mutatedPathway=np.random.randint(pathwaysNum)\n",
    "    pathwayMutations=(np.random.rand(genesNum)<=mutationProb)*1\n",
    "    mutationProfile[(mutatedPathway*genesNum):(mutatedPathway*genesNum+genesNum)]=pathwayMutations\n",
    "    return mutationProfile,mutatedPathway\n",
    "\n",
    "def assignMutation(PPI,mutationProfile):\n",
    "\tfor n in range(0,len(PPI)):\n",
    "\t\tPPI.node[n]['val']=mutationProfile[n]\n",
    "\treturn PPI\n",
    "\n",
    "patients=np.zeros((patientsNum,len(PPI))) #patients=[]\n",
    "phenotypes=[]\n",
    "for patient in range(0,patientsNum):\n",
    "    mutationProfile,mutatedPathway=generateMutationProfile(genesNum,pathwaysNum)\n",
    "    patients[patient,:]=mutationProfile #patients.append(assignMutation(PPI,mutationProfile).copy())\n",
    "    phenotypes.append(mutatedPathway)"
   ]
  },
  {
   "cell_type": "code",
   "execution_count": 0,
   "metadata": {
    "collapsed": false
   },
   "outputs": [],
   "source": [
    "# Visualization of the patients networks with mutations\n",
    "plt.figure(1,figsize=(16,16))\n",
    "for pn in range(0,patientsNum):\n",
    "    plt.subplot(10, 6, pn+1)\n",
    "    nx.draw(PPI,pos,with_labels=False,node_size=20,node_color=patients[pn,:],cmap = plt.cm.Blues)\n",
    "plt.show()"
   ]
  },
  {
   "cell_type": "code",
   "execution_count": 0,
   "metadata": {
    "collapsed": false
   },
   "outputs": [],
   "source": [
    "# Store new dataset?\n",
    "dataFolder='data/'\n",
    "newDataset=False\n",
    "\n",
    "import pickle\n",
    "if newDataset:\n",
    "    file = open(dataFolder+'dataset.txt', 'w')\n",
    "    data = {'PPI': PPI, 'patients' : patients, 'phenotypes': phenotypes, 'pathwaysNum': pathwaysNum,'genesNum': genesNum,'connProbability': connProbability,'connNeighboors': connNeighboors,'connBetweenPathways': connBetweenPathways,'patientsNum': patientsNum,'mutationProb': mutationProb}\n",
    "    pathwaysNum,genesNum,connProbability,connNeighboors,connBetweenPathways,patientsNum,mutationProb\n",
    "    pickle.dump(data, file)\n",
    "    file.close()"
   ]
  }
 ],
 "metadata": {
  "kernelspec": {
   "display_name": "Python 2",
   "language": "python",
   "name": "python2"
  },
  "language_info": {
   "codemirror_mode": {
    "name": "ipython",
    "version": 2
   },
   "file_extension": ".py",
   "mimetype": "text/x-python",
   "name": "python",
   "nbconvert_exporter": "python",
   "pygments_lexer": "ipython2",
   "version": "2.7.10"
  }
 },
 "nbformat": 4,
 "nbformat_minor": 0
}
