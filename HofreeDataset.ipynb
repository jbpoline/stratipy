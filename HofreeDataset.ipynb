{
 "cells": [
  {
   "cell_type": "markdown",
   "metadata": {
    "collapsed": true
   },
   "source": [
    "# Analyses of the Hofree et al. original datasets"
   ]
  },
  {
   "cell_type": "markdown",
   "metadata": {},
   "source": [
    "## Import all the preprocessed data in Matlab format\n",
    "For the current analyses, all the required preprocessed data are already in the folder \"data.\"\n",
    "\n",
    "If you want to generate them from the original Hofree et al. dataset, you have to use the script \"Matlab2Python.m\" in the \"tools\" folder. The original dataset from Hofree et al. with their Matlab code is available on the UCSD's [Network Based Stratification](http://chianti.ucsd.edu/~mhofree/wordpress/?page_id=26) webpage."
   ]
  },
  {
   "cell_type": "code",
   "execution_count": 0,
   "metadata": {
    "collapsed": false
   },
   "outputs": [],
   "source": [
    "from scipy.io import loadmat\n",
    "dataFolder='data/'\n",
    "\n",
    "# Patients' somatic mutation profiles\n",
    "somatic = loadmat(dataFolder+'somatic_data_UCEC.mat')\n",
    "samples_id = [k[0][0][:12] for k in somatic['sample_id']]\n",
    "# Patients' full phenotypes\n",
    "phenotypes = loadmat(dataFolder+'UCEC_clinical_phenotype.mat')\n",
    "patients = [c[0][0] for c in phenotypes['UCECppheno'][0][0][0]]\n",
    "tmp = [c[0][0] for c in phenotypes['UCECppheno'][0][0][10]]\n",
    "cancer = [tmp[patients.index(p)] for p in samples_id]\n",
    "tmp = [c[0][0] for c in phenotypes['UCECppheno'][0][0][17]]\n",
    "grade = [tmp[patients.index(p)] for p in samples_id]\n",
    "\n",
    "# Adjacency matrix\n",
    "network = loadmat(dataFolder+'adj_mat.mat')\n",
    "# Correspondance between matrices rows number and entrez id\n",
    "entrez_to_idmat = loadmat(dataFolder+'entrez_to_idmat.mat')"
   ]
  },
  {
   "cell_type": "markdown",
   "metadata": {},
   "source": [
    "## Check preprocessed data format"
   ]
  },
  {
   "cell_type": "code",
   "execution_count": 0,
   "metadata": {
    "collapsed": false
   },
   "outputs": [],
   "source": [
    "print somatic.keys()\n",
    "len(somatic['gene_id_all'])"
   ]
  },
  {
   "cell_type": "code",
   "execution_count": 0,
   "metadata": {
    "collapsed": false
   },
   "outputs": [],
   "source": [
    "mutations=somatic['gene_indiv_mat']\n",
    "mutations.shape"
   ]
  },
  {
   "cell_type": "code",
   "execution_count": 0,
   "metadata": {
    "collapsed": false
   },
   "outputs": [],
   "source": [
    "print network.keys()\n",
    "net=network['adj_mat']\n",
    "net.shape"
   ]
  },
  {
   "cell_type": "code",
   "execution_count": 0,
   "metadata": {
    "collapsed": false
   },
   "outputs": [],
   "source": [
    "entrez_to_idmat.keys()"
   ]
  },
  {
   "cell_type": "code",
   "execution_count": 0,
   "metadata": {
    "collapsed": false
   },
   "outputs": [],
   "source": [
    "len(entrez_to_idmat['keymat'][0])"
   ]
  },
  {
   "cell_type": "markdown",
   "metadata": {},
   "source": [
    "## Extract all the ids"
   ]
  },
  {
   "cell_type": "code",
   "execution_count": 0,
   "metadata": {
    "collapsed": false
   },
   "outputs": [],
   "source": [
    "keys=[x[0] for x in entrez_to_idmat['keymat'][0]]\n",
    "ids=[x[0][0] for x in entrez_to_idmat['entrezid'][0]]\n",
    "genes = [x[0] for x in somatic['gene_id_all']]"
   ]
  },
  {
   "cell_type": "code",
   "execution_count": 0,
   "metadata": {
    "collapsed": false
   },
   "outputs": [],
   "source": [
    "print \"Ensembl ID:\", keys[0]\n",
    "print \"Entrez ID:\", ids[0]\n",
    "print \"Check on NCBI: http://www.ncbi.nlm.nih.gov/gene/%i\" % ids[0]"
   ]
  },
  {
   "cell_type": "markdown",
   "metadata": {},
   "source": [
    "## Extract indexes of the genes in the adjacency matrix"
   ]
  },
  {
   "cell_type": "code",
   "execution_count": 0,
   "metadata": {
    "collapsed": false
   },
   "outputs": [],
   "source": [
    "import numpy as np\n",
    "l=[]\n",
    "subnet=[]\n",
    "good=[]\n",
    "bad=[]\n",
    "for j,g in enumerate(genes):\n",
    "    try:\n",
    "        i=ids.index(g)\n",
    "        subnet.append(i)\n",
    "        good.append(j)\n",
    "    except:\n",
    "        i=np.nan\n",
    "        bad.append(j)\n",
    "    l.append(i)\n",
    "    \n",
    "subnetNotmutated=[g for g in range(net.shape[1]) if not(g in subnet)]"
   ]
  },
  {
   "cell_type": "code",
   "execution_count": 0,
   "metadata": {
    "collapsed": false,
    "scrolled": true
   },
   "outputs": [],
   "source": [
    "print \"All mutated genes:\",len(l)\n",
    "print \"Referenced in the PPI:\",len(good)\n",
    "print \"On their own:\",len(bad)\n",
    "print \"In the PPI but not mutated:\",len(subnetNotmutated)"
   ]
  },
  {
   "cell_type": "markdown",
   "metadata": {},
   "source": [
    "## Extract the submatrices of references genes & zero-padding of the adjacency matrix"
   ]
  },
  {
   "cell_type": "code",
   "execution_count": 0,
   "metadata": {
    "collapsed": false
   },
   "outputs": [],
   "source": [
    "AA=np.array(net[subnet][:,subnet].todense())\n",
    "AA=AA-np.diag(np.diag(AA))\n",
    "AB=np.array(net[subnet][:,subnetNotmutated].todense())\n",
    "AC=np.zeros([AA.shape[0],len(bad)])\n",
    "BA=np.array(net[subnetNotmutated][:,subnet].todense())\n",
    "BB=np.array(net[subnetNotmutated][:,subnetNotmutated].todense())\n",
    "BB=BB-np.diag(np.diag(BB))\n",
    "BC=np.zeros([BB.shape[0],len(bad)])\n",
    "CA=np.zeros([len(bad),AA.shape[0]])\n",
    "CB=np.zeros([len(bad),BB.shape[0]])\n",
    "CC=np.diagflat(np.zeros(len(bad)))\n",
    "print AA.shape, BB.shape, CC.shape"
   ]
  },
  {
   "cell_type": "code",
   "execution_count": 0,
   "metadata": {
    "collapsed": false
   },
   "outputs": [],
   "source": [
    "nnnet=np.bmat([[AA,AB,AC],[BA,BB,BC],[CA,CB,CC]])\n",
    "nnmut=np.bmat([mutations[:,good],np.zeros([mutations.shape[0],BB.shape[0]]),mutations[:,bad]])\n",
    "symbols=somatic['gene_id_symbol'][good+bad]"
   ]
  },
  {
   "cell_type": "code",
   "execution_count": 0,
   "metadata": {
    "collapsed": false
   },
   "outputs": [],
   "source": [
    "print \"Network size:\",nnnet.shape\n",
    "print \"Mutation size:\",nnmut.shape"
   ]
  },
  {
   "cell_type": "code",
   "execution_count": 0,
   "metadata": {
    "collapsed": false
   },
   "outputs": [],
   "source": [
    "%matplotlib inline\n",
    "import matplotlib.pyplot as plt\n",
    "degree=np.squeeze(np.array(nnnet.sum(axis=0)))\n",
    "plt.figure(1,figsize=(16,10))\n",
    "plt.plot(degree)\n",
    "plt.ylabel(\"Degree (number of neighboors in the PPI)\")\n",
    "plt.xlabel(\"Genes (keys)\")\n",
    "plt.show()"
   ]
  },
  {
   "cell_type": "markdown",
   "metadata": {},
   "source": [
    "## Filtering according to Hofree et al."
   ]
  },
  {
   "cell_type": "markdown",
   "metadata": {},
   "source": [
    "### Computing network influence score [warning: very long!]\n",
    "For more details, see: \n",
    "\n",
    "Vandin, F., Upfal, E., & Raphael, B. J. (2011). Algorithms for Detecting Significantly Mutated Pathways in Cancer. Journal of Computational Biology, 18(3), 507–522. http://doi.org/10.1089/cmb.2010.0265\n",
    "\n",
    "Vanunu O, Magger O, Ruppin E, Shlomi T, Sharan R (2010) Associating Genes and Protein Complexes with Disease via Network Propagation. PLoS Comput Biol 6(1): e1000641. doi:10.1371/journal.pcbi.1000641\n",
    "\n"
   ]
  },
  {
   "cell_type": "code",
   "execution_count": 0,
   "metadata": {
    "collapsed": false
   },
   "outputs": [],
   "source": [
    "#remove genes on their own\n",
    "nnnetFiltered=nnnet[degree>0,:][:,degree>0]\n",
    "nnnetFiltered.shape"
   ]
  },
  {
   "cell_type": "code",
   "execution_count": 0,
   "metadata": {
    "collapsed": false
   },
   "outputs": [],
   "source": [
    "from numpy import linalg as LA\n",
    "from scipy.io import savemat\n",
    "diffusionFactor=0.7\n",
    "computeInfluence=False\n",
    "if computeInfluence:\n",
    "    from IPython.html.widgets import FloatProgress\n",
    "    from IPython.display import display \n",
    "\n",
    "    influence=np.zeros(nnnetFiltered.shape)\n",
    "    influencers=np.zeros(nnnetFiltered.shape)\n",
    "    f = FloatProgress(min=0, max=nnnetFiltered.shape[0])\n",
    "    display(f)\n",
    "    \n",
    "    PPIAdjacencyMatrix=nnnetFiltered+np.diagflat(np.ones(nnnetFiltered.shape[0]))\n",
    "    tmp=np.array(PPIAdjacencyMatrix.sum(axis=0))\n",
    "    tmp=np.diagflat(1./tmp)**1/2\n",
    "    tmp2=np.dot(tmp,PPIAdjacencyMatrix)\n",
    "    A=np.dot(tmp2,tmp)\n",
    "    \n",
    "    for i in range(nnnetFiltered.shape[0]):\n",
    "        f.value = i\n",
    "        mutationProfile=np.zeros(nnnetFiltered.shape[0])\n",
    "        mutationProfile[i]=1\n",
    "        X1=mutationProfile\n",
    "        X2=diffusionFactor*X1*A+(1-diffusionFactor)*mutationProfile\n",
    "        while LA.norm(X2-X1)>10e-6:\n",
    "            X1=X2\n",
    "            X2=diffusionFactor*X1*A+(1-diffusionFactor)*mutationProfile\n",
    "        influence[i,:]=np.squeeze(X2)\n",
    "    \n",
    "    #Save the raw influence distance matrix (heavy!)\n",
    "    savemat(dataFolder+'influenceDistance.mat',{'influence':influence, 'diffusionFactor':diffusionFactor})\n",
    "    #shasum(1) = 184a64289651ec1034e47cce26bb332c64333166\n",
    "    #md5 = 927371b04488b48878ca597122eae8e9\n",
    "    #Save the sparse influence distance by merging with PPI\n",
    "    from scipy.sparse import lil_matrix\n",
    "    PPI_influence=lil_matrix(np.multiply(np.min(np.dstack((influence, influence.T)),axis=2),np.array(nnnetFiltered)))\n",
    "    savemat(dataFolder+'PPI_influence.mat',{'PPI_influence':PPI_influence, 'diffusionFactor':diffusionFactor}, do_compression=True)\n",
    "else:\n",
    "    influence_data = loadmat(dataFolder+'PPI_influence.mat')\n",
    "    PPI_influence=influence_data['PPI_influence']\n",
    "    diffusionFactor=influence_data['diffusionFactor'][0][0]"
   ]
  },
  {
   "cell_type": "code",
   "execution_count": 0,
   "metadata": {
    "collapsed": false
   },
   "outputs": [],
   "source": [
    "plt.figure(figsize=(16,16))\n",
    "plt.spy(PPI_influence, markersize=1)\n",
    "plt.show()"
   ]
  },
  {
   "cell_type": "markdown",
   "metadata": {},
   "source": [
    "## Keeping only the connections with the best influencers\n",
    "\"The degree to which local network topology versus global network topology constrains W is determined by the number of nearest neighbors. We experimented with neighbor counts ranging from 5 to 50 to include in the nearest network, and we observed only small changes in outcome (data not shown). For the work presented in this manuscript, the 11 most influential neighbors of each gene in the network as determined by network influence distance were used.\""
   ]
  },
  {
   "cell_type": "code",
   "execution_count": 0,
   "metadata": {
    "collapsed": false
   },
   "outputs": [],
   "source": [
    "PPIneighboorsMax=11\n",
    "influenceMat=PPI_influence.todense()\n",
    "newnet=np.zeros(nnnetFiltered.shape)\n",
    "for i in range(nnnetFiltered.shape[0]):\n",
    "    bestInfluencers=np.argsort(influenceMat[i,:])[:,-PPIneighboorsMax:]\n",
    "    newnet[i,bestInfluencers]=np.squeeze(np.array(nnnetFiltered[i,bestInfluencers]))\n",
    "newnet=np.max(np.dstack((newnet, newnet.T)),axis=2)"
   ]
  },
  {
   "cell_type": "code",
   "execution_count": 0,
   "metadata": {
    "collapsed": false
   },
   "outputs": [],
   "source": [
    "plt.figure(1,figsize=(18,9))\n",
    "plt.subplot(121)\n",
    "plt.imshow(nnnetFiltered)\n",
    "plt.set_cmap('Greys')\n",
    "plt.title(\"Original adjacency\")\n",
    "plt.subplot(122)\n",
    "plt.imshow(newnet)\n",
    "plt.title(\"With only the \"+str(PPIneighboorsMax)+\" best influencers\")\n",
    "plt.show()"
   ]
  },
  {
   "cell_type": "code",
   "execution_count": 0,
   "metadata": {
    "collapsed": false
   },
   "outputs": [],
   "source": [
    "plt.figure(1,figsize=(16,10))\n",
    "plt.plot(newnet.sum(axis=0))\n",
    "plt.show()"
   ]
  },
  {
   "cell_type": "code",
   "execution_count": 0,
   "metadata": {
    "collapsed": false
   },
   "outputs": [],
   "source": [
    "print nnnet.shape, nnnetFiltered.shape, nnnet[degree>0,:][:,degree>0].shape, newnet.shape"
   ]
  },
  {
   "cell_type": "code",
   "execution_count": 0,
   "metadata": {
    "collapsed": true
   },
   "outputs": [],
   "source": [
    "keepSingletons=False\n",
    "mutationsMin=10"
   ]
  },
  {
   "cell_type": "code",
   "execution_count": 0,
   "metadata": {
    "collapsed": false
   },
   "outputs": [],
   "source": [
    "nnnetFiltered=nnnet[degree>0,:][:,degree>0]\n",
    "filteredGenes=degree==0\n",
    "filteredGenes[filteredGenes==False]=newnet.sum(axis=1)==0\n",
    "print \"%i genes without neighboor after filtering with maximum %i influencers criterion\" % (filteredGenes.sum(), PPIneighboorsMax)"
   ]
  },
  {
   "cell_type": "code",
   "execution_count": 0,
   "metadata": {
    "collapsed": true
   },
   "outputs": [],
   "source": [
    "if keepSingletons:\n",
    "    netFinal=np.bmat([[np.matrix(newnet), np.matrix(np.zeros([newnet.shape[0],sum(degree==0)]))], [np.matrix(np.zeros([sum(degree==0),newnet.shape[0]])), np.matrix(np.diagflat(np.zeros(sum(degree==0))))]])\n",
    "    mutFinal=np.concatenate([nnmut[:,filteredGenes==False],nnmut[:,filteredGenes==True]], axis=1)\n",
    "else:\n",
    "    netFinal=newnet\n",
    "    mutFinal=nnmut[:,filteredGenes==False]"
   ]
  },
  {
   "cell_type": "code",
   "execution_count": 0,
   "metadata": {
    "collapsed": false
   },
   "outputs": [],
   "source": [
    "filteredPatients=np.ndarray.flatten(np.array(mutFinal.sum(axis=1)))<mutationsMin\n",
    "mutFinal=mutFinal[filteredPatients==False,:]\n",
    "\n",
    "print \"Removing %i patients with less than %i mutations\" % (filteredPatients.sum(),mutationsMin)\n",
    "print \"New adjacency matrix:\",netFinal.shape\n",
    "print \"New mutation profile matrix:\",mutFinal.shape"
   ]
  },
  {
   "cell_type": "code",
   "execution_count": 0,
   "metadata": {
    "collapsed": false
   },
   "outputs": [],
   "source": [
    "plt.figure(1,figsize=(16,10))\n",
    "plt.plot(np.array(netFinal).sum(axis=0))\n",
    "plt.show()"
   ]
  },
  {
   "cell_type": "markdown",
   "metadata": {},
   "source": [
    "## Diffusion of the mutation profiles according to the PPI"
   ]
  },
  {
   "cell_type": "code",
   "execution_count": 0,
   "metadata": {
    "collapsed": true
   },
   "outputs": [],
   "source": [
    "import scipy.sparse as sp\n",
    "norm = lambda x: np.sqrt(x.multiply(x).sum())\n",
    "def mutationProfileDiffusion(mutationProfile,PPIAdjacencyMatrix,diffusionFactor):\n",
    "    n = PPIAdjacencyMatrix.shape[0]\n",
    "    PPIAdjacencyMatrix=PPIAdjacencyMatrix+sp.dia_matrix((np.ones(PPIAdjacencyMatrix.shape[0]), [0]), shape=(n, n))\n",
    "    \n",
    "    sums = 1.0 / PPIAdjacencyMatrix.sum(axis=0)\n",
    "    d = sp.dia_matrix((sums, [0]), shape=(n, n))\n",
    "    A = PPIAdjacencyMatrix.dot(d)\n",
    "    \n",
    "    X1=mutationProfile\n",
    "    X2=diffusionFactor*X1.dot(A)+(1-diffusionFactor)*mutationProfile\n",
    "    while norm(X2-X1)>10e-6:\n",
    "        X1=X2\n",
    "        X2=diffusionFactor*X1.dot(A)+(1-diffusionFactor)*mutationProfile\n",
    "    return X2"
   ]
  },
  {
   "cell_type": "code",
   "execution_count": 0,
   "metadata": {
    "collapsed": false
   },
   "outputs": [],
   "source": [
    "mutDiffused=mutationProfileDiffusion(sp.csr_matrix(mutFinal),sp.csr_matrix(netFinal), diffusionFactor)\n",
    "mutDiffused[np.isnan(mutDiffused.todense())]=0\n",
    "mutDiffused=mutDiffused.todense()"
   ]
  },
  {
   "cell_type": "code",
   "execution_count": 0,
   "metadata": {
    "collapsed": true
   },
   "outputs": [],
   "source": [
    "def quantile_normalization(anarray):\n",
    "        A=anarray.T\n",
    "        AA = np.zeros_like(A)\n",
    "        I = np.argsort(A,axis=0)\n",
    "        AA[I,np.arange(A.shape[1])] = np.mean(A[I,np.arange(A.shape[1])],axis=1)[:,np.newaxis]\n",
    "        return AA.T"
   ]
  },
  {
   "cell_type": "code",
   "execution_count": 0,
   "metadata": {
    "collapsed": false
   },
   "outputs": [],
   "source": [
    "mutQDiffused=quantile_normalization(np.squeeze(np.asarray(mutDiffused)))"
   ]
  },
  {
   "cell_type": "code",
   "execution_count": 0,
   "metadata": {
    "collapsed": false
   },
   "outputs": [],
   "source": [
    "plt.figure(1,figsize=(16,10))\n",
    "plt.subplot(311)\n",
    "plt.plot(np.squeeze(np.array(mutFinal[0,:])))\n",
    "plt.xlim([0,mutFinal.shape[1]])\n",
    "plt.title(\"Original mutation profile\")\n",
    "plt.subplot(312)\n",
    "plt.plot(np.squeeze(np.array(mutDiffused[0,:])))\n",
    "plt.xlim([0,mutFinal.shape[1]])\n",
    "plt.title(\"Diffused mutation profile\")\n",
    "plt.subplot(313)\n",
    "plt.plot(mutQDiffused[0,:])\n",
    "plt.xlim([0,mutFinal.shape[1]])\n",
    "plt.title(\"Quantile Normalized Diffused mutation profile\")\n",
    "plt.show()"
   ]
  },
  {
   "cell_type": "code",
   "execution_count": 0,
   "metadata": {
    "collapsed": false
   },
   "outputs": [],
   "source": [
    "plt.figure(1,figsize=(16,5))\n",
    "plt.subplot(411)\n",
    "plt.imshow(mutFinal)\n",
    "plt.title(\"Original mutation profile\")\n",
    "plt.subplot(412)\n",
    "plt.imshow(mutDiffused)\n",
    "plt.title(\"Diffused mutation profile\")\n",
    "plt.subplot(413)\n",
    "plt.imshow(mutQDiffused)\n",
    "plt.title(\"Quantile Normalized Diffused mutation profile\")\n",
    "plt.subplot(414)\n",
    "plt.hist(np.array(np.squeeze(mutQDiffused.reshape((1,-1)))).T, 50, normed=1, histtype='stepfilled')\n",
    "plt.title(\"Weigths histogram after diffusion\")\n",
    "plt.show()"
   ]
  },
  {
   "cell_type": "markdown",
   "metadata": {},
   "source": [
    "## Non-Negative Matrix (NMF) decomposition "
   ]
  },
  {
   "cell_type": "code",
   "execution_count": 0,
   "metadata": {
    "collapsed": false
   },
   "outputs": [],
   "source": [
    "from sklearn.decomposition import ProjectedGradientNMF\n",
    "model = ProjectedGradientNMF(n_components=3, init='nndsvdar', random_state=0)\n",
    "model.fit(np.matrix(mutFinal))\n",
    "sklearnComp=model.components_.copy()\n",
    "sklearnStrat=np.argmax(model.transform(np.matrix(mutFinal)),axis=1).copy()\n",
    "model.fit(np.matrix(mutDiffused))\n",
    "sklearnCompDiff=model.components_.copy()\n",
    "sklearnStratDiff=np.argmax(model.transform(np.matrix(mutDiffused)),axis=1).copy()\n",
    "model.fit(np.matrix(mutQDiffused))\n",
    "sklearnCompQDiff=model.components_.copy()\n",
    "sklearnStratQDiff=np.argmax(model.transform(np.matrix(mutQDiffused)),axis=1).copy()\n",
    "\n",
    "plt.figure(1,figsize=(16,10))\n",
    "plt.subplot(411)\n",
    "plt.plot(sklearnComp.T/sklearnComp.max())\n",
    "plt.ylabel(\"Weight\")\n",
    "plt.xlabel(\"Genes\")\n",
    "plt.title(\"NMF decomposition on raw mutation profiles\")\n",
    "plt.xlim([0,sklearnComp.shape[1]])\n",
    "plt.subplot(412)\n",
    "plt.plot(sklearnCompDiff.T/sklearnCompDiff.max())\n",
    "plt.ylabel(\"Weight\")\n",
    "plt.xlabel(\"Genes\")\n",
    "plt.title(\"NMF decomposition on diffused mutation profiles\")\n",
    "plt.xlim([0,sklearnCompDiff.shape[1]])\n",
    "plt.subplot(413)\n",
    "plt.plot(sklearnCompQDiff.T/sklearnCompQDiff.max())\n",
    "plt.ylabel(\"Weight\")\n",
    "plt.xlabel(\"Genes\")\n",
    "plt.title(\"NMF decomposition on quantile normlaized diffused mutation profiles\")\n",
    "plt.xlim([0,sklearnCompDiff.shape[1]])\n",
    "plt.subplot(414)\n",
    "plt.plot(sklearnCompQDiff.T/sklearnCompQDiff.max()-sklearnCompDiff.T/sklearnCompDiff.max())\n",
    "plt.ylabel(\"Weight difference\")\n",
    "plt.xlabel(\"Genes\")\n",
    "plt.title(\"Difference\")\n",
    "plt.xlim([0,sklearnCompDiff.shape[1]])\n",
    "plt.legend({'Component 1','Component 2','Component 3'})\n",
    "plt.show()"
   ]
  },
  {
   "cell_type": "markdown",
   "metadata": {},
   "source": [
    "## GNMF Implementation"
   ]
  },
  {
   "cell_type": "code",
   "execution_count": 0,
   "metadata": {
    "collapsed": false
   },
   "outputs": [],
   "source": [
    "## Reuse scikit-learn functions\n",
    "from sklearn.utils import check_random_state\n",
    "from sklearn.utils.extmath import randomized_svd, safe_sparse_dot\n",
    "\n",
    "def check_non_negative(X, whom):\n",
    "    X = X.data if sp.issparse(X) else X\n",
    "    if (X < 0).any():\n",
    "        raise ValueError(\"Negative values in data passed to %s\" % whom)\n",
    "\n",
    "def _sparseness(x):\n",
    "    \"\"\"Hoyer's measure of sparsity for a vector\"\"\"\n",
    "    sqrt_n = np.sqrt(len(x))\n",
    "    return (sqrt_n - LA.norm(x, 1) / LA.norm(x)) / (sqrt_n - 1)\n",
    "\n",
    "def safe_vstack(Xs):\n",
    "    if any(sp.issparse(X) for X in Xs):\n",
    "        return sp.vstack(Xs)\n",
    "    else:\n",
    "        return np.vstack(Xs)\n",
    "\n",
    "def NBS_init(X,n_components,init=None):\n",
    "        n_samples, n_features = X.shape\n",
    "        if init is None:\n",
    "            if n_components < n_features:\n",
    "                init = 'nndsvd'\n",
    "            else:\n",
    "                init = 'random'\n",
    "\n",
    "\n",
    "        if init == 'nndsvd':\n",
    "            W, H = _initialize_nmf(X, n_components)\n",
    "        elif init == \"random\":\n",
    "            rng = check_random_state(random_state)\n",
    "            W = rng.randn(n_samples, n_components)\n",
    "            # we do not write np.abs(W, out=W) to stay compatible with\n",
    "            # numpy 1.5 and earlier where the 'out' keyword is not\n",
    "            # supported as a kwarg on ufuncs\n",
    "            np.abs(W, W)\n",
    "            H = rng.randn(n_components, n_features)\n",
    "            np.abs(H, H)\n",
    "        else:\n",
    "            raise ValueError(\n",
    "                'Invalid init parameter: got %r instead of one of %r' %\n",
    "                (init, (None, 'nndsvd', 'nndsvda', 'nndsvdar', 'random')))\n",
    "        return W, H\n",
    "\n",
    "def _initialize_nmf(X, n_components, variant=None, eps=1e-6,\n",
    "                    random_state=None):\n",
    "    \"\"\"NNDSVD algorithm for NMF initialization.\n",
    "\n",
    "    Computes a good initial guess for the non-negative\n",
    "    rank k matrix approximation for X: X = WH\n",
    "\n",
    "    Parameters\n",
    "    ----------\n",
    "\n",
    "    X : array, [n_samples, n_features]\n",
    "        The data matrix to be decomposed.\n",
    "\n",
    "    n_components : array, [n_components, n_features]\n",
    "        The number of components desired in the approximation.\n",
    "\n",
    "    variant : None | 'a' | 'ar'\n",
    "        The variant of the NNDSVD algorithm.\n",
    "        Accepts None, 'a', 'ar'\n",
    "        None: leaves the zero entries as zero\n",
    "        'a': Fills the zero entries with the average of X\n",
    "        'ar': Fills the zero entries with standard normal random variates.\n",
    "        Default: None\n",
    "\n",
    "    eps: float\n",
    "        Truncate all values less then this in output to zero.\n",
    "\n",
    "    random_state : numpy.RandomState | int, optional\n",
    "        The generator used to fill in the zeros, when using variant='ar'\n",
    "        Default: numpy.random\n",
    "\n",
    "    Returns\n",
    "    -------\n",
    "\n",
    "    (W, H) :\n",
    "        Initial guesses for solving X ~= WH such that\n",
    "        the number of columns in W is n_components.\n",
    "\n",
    "    Remarks\n",
    "    -------\n",
    "\n",
    "    This implements the algorithm described in\n",
    "    C. Boutsidis, E. Gallopoulos: SVD based\n",
    "    initialization: A head start for nonnegative\n",
    "    matrix factorization - Pattern Recognition, 2008\n",
    "\n",
    "    http://tinyurl.com/nndsvd\n",
    "    \"\"\"\n",
    "    check_non_negative(X, \"NMF initialization\")\n",
    "    if variant not in (None, 'a', 'ar'):\n",
    "        raise ValueError(\"Invalid variant name\")\n",
    "\n",
    "    U, S, V = randomized_svd(X, n_components)\n",
    "    W, H = np.zeros(U.shape), np.zeros(V.shape)\n",
    "\n",
    "    # The leading singular triplet is non-negative\n",
    "    # so it can be used as is for initialization.\n",
    "    W[:, 0] = np.sqrt(S[0]) * np.abs(U[:, 0])\n",
    "    H[0, :] = np.sqrt(S[0]) * np.abs(V[0, :])\n",
    "\n",
    "    for j in range(1, n_components):\n",
    "        x, y = U[:, j], V[j, :]\n",
    "\n",
    "        # extract positive and negative parts of column vectors\n",
    "        x_p, y_p = np.maximum(x, 0), np.maximum(y, 0)\n",
    "        x_n, y_n = np.abs(np.minimum(x, 0)), np.abs(np.minimum(y, 0))\n",
    "\n",
    "        # and their norms\n",
    "        x_p_nrm, y_p_nrm = LA.norm(x_p), LA.norm(y_p)\n",
    "        x_n_nrm, y_n_nrm = LA.norm(x_n), LA.norm(y_n)\n",
    "\n",
    "        m_p, m_n = x_p_nrm * y_p_nrm, x_n_nrm * y_n_nrm\n",
    "\n",
    "        # choose update\n",
    "        if m_p > m_n:\n",
    "            u = x_p / x_p_nrm\n",
    "            v = y_p / y_p_nrm\n",
    "            sigma = m_p\n",
    "        else:\n",
    "            u = x_n / x_n_nrm\n",
    "            v = y_n / y_n_nrm\n",
    "            sigma = m_n\n",
    "\n",
    "        lbd = np.sqrt(S[j] * sigma)\n",
    "        W[:, j] = lbd * u\n",
    "        H[j, :] = lbd * v\n",
    "\n",
    "    W[W < eps] = 0\n",
    "    H[H < eps] = 0\n",
    "\n",
    "    if variant == \"a\":\n",
    "        avg = X.mean()\n",
    "        W[W == 0] = avg\n",
    "        H[H == 0] = avg\n",
    "    elif variant == \"ar\":\n",
    "        random_state = check_random_state(random_state)\n",
    "        avg = X.mean()\n",
    "        W[W == 0] = abs(avg * random_state.randn(len(W[W == 0])) / 100)\n",
    "        H[H == 0] = abs(avg * random_state.randn(len(H[H == 0])) / 100)\n",
    "\n",
    "    return W, H"
   ]
  },
  {
   "cell_type": "code",
   "execution_count": 0,
   "metadata": {
    "collapsed": false
   },
   "outputs": [],
   "source": [
    "# Adapted version of the NMF function to integrate graph-regularization\n",
    "#\n",
    "# See:\n",
    "# https://github.com/luispedro/milk/blob/master/milk/unsupervised/nnmf/lee_seung.py\n",
    "# https://www.researchgate.net/profile/Zhigang_Luo/publication/258350768_Limited-memory_fast_gradient_descent_method_for_graph_regularized_nonnegative_matrix_factorization/links/0c9605282f7f611648000000.pdf\n",
    "from sklearn.utils import check_array\n",
    "import warnings\n",
    "\n",
    "def GNMF(X,L,lambd=0,n_components=None,tol=1e-4,max_iter=100,verbose=False):      \n",
    "        X = check_array(X)\n",
    "        check_non_negative(X, \"NMF.fit\")\n",
    "        n_samples, n_features = X.shape\n",
    "  \n",
    "        if not n_components:\n",
    "            n_components = n_features\n",
    "        else:\n",
    "            n_components = n_components\n",
    "  \n",
    "        #W, H = NBS_init(X,n_components)\n",
    "        W = np.random.normal(0,1,(n_samples,n_components))**2\n",
    "        H = np.random.normal(0,1,(n_components,n_features))**2\n",
    "        \n",
    "        reconstruction_err_ = LA.norm(X - np.dot(W, H))\n",
    "        eps=1e-4#spacing(1) #10e-14\n",
    "        Lp = (abs(L)+L)/2\n",
    "        Lm = (abs(L)-L)/2\n",
    "       \n",
    "        for n_iter in range(1, max_iter + 1):\n",
    "            if verbose:\n",
    "                print \"Iteration =\", n_iter,\"/\",max_iter, \"— Error =\", reconstruction_err_,\"/\",tol\n",
    "            \n",
    "            h1=lambd*np.dot(H,Lm)+np.dot(W.T,(X+eps)/(np.dot(W,H)+eps))\n",
    "            h2=lambd*np.dot(H,Lp)+np.dot(W.T,np.ones(X.shape))\n",
    "            H = np.multiply(H,(h1+eps)/(h2+eps))\n",
    "            H[H<=0]=eps\n",
    "            H[np.isnan(H)]=eps\n",
    "            \n",
    "            w1=np.dot((X+eps)/(np.dot(W,H)+eps),H.T)\n",
    "            w2=np.dot(np.ones(X.shape),H.T)\n",
    "            W = np.multiply(W,(w1+eps)/(w2+eps))\n",
    "            W[H<=0]=eps\n",
    "            W[np.isnan(W)]=eps            \n",
    "            \n",
    "            if not sp.issparse(X):\n",
    "                if reconstruction_err_ > LA.norm(X - np.dot(W, H)):\n",
    "                    H=(1-eps)*H+eps*np.random.normal(0,1,(n_components,n_features))**2\n",
    "                    W=(1-eps)*W+eps*np.random.normal(0,1,(n_samples,n_components))**2\n",
    "                reconstruction_err_ = LA.norm(X - np.dot(W, H))\n",
    "            else:\n",
    "                norm2X = np.sum(X.data ** 2)  # Ok because X is CSR\n",
    "                normWHT = np.trace(np.dot(np.dot(H.T, np.dot(W.T, W)), H))\n",
    "                cross_prod = np.trace(np.dot((X * H.T).T, W))\n",
    "                reconstruction_err_ = sqrt(norm2X + normWHT - 2. * cross_prod)\n",
    "                    \n",
    "            if reconstruction_err_<tol:\n",
    "                warnings.warn(\"Tolerance error reached during fit\")\n",
    "                break\n",
    "            \n",
    "            if np.isnan(W).any() or np.isnan(H).any():\n",
    "                warnings.warn(\"NaN values at \"+ str(n_iter)+\" Error=\"+str(reconstruction_err_))\n",
    "                break\n",
    "                              \n",
    "            if n_iter == max_iter:\n",
    "                warnings.warn(\"Iteration limit reached during fit\")\n",
    "  \n",
    "        return np.squeeze(np.asarray(W)), np.squeeze(np.asarray(H)), reconstruction_err_"
   ]
  },
  {
   "cell_type": "code",
   "execution_count": 0,
   "metadata": {
    "collapsed": false
   },
   "outputs": [],
   "source": [
    "gnmfFactor = 0.7\n",
    "WNMF, stratipyCompG, reconstruction_err_ = GNMF(np.matrix(mutFinal),np.matrix(netFinal),0.,n_components=3,tol=1e-3)\n",
    "WNMFDiff, stratipyCompGDiff, reconstruction_err_Diff = GNMF(np.matrix(mutDiffused),np.matrix(netFinal),0.,n_components=3,tol=1e-3)\n",
    "WNMFQDiff, stratipyCompGQDiff, reconstruction_err_QDiff = GNMF(np.matrix(mutQDiffused),np.matrix(netFinal),0.,n_components=3,tol=1e-3)\n",
    "WGNMF, stratipyCompGNMF, reconstruction_err_ = GNMF(np.matrix(mutFinal),np.matrix(netFinal),gnmfFactor,n_components=3,tol=1e-3)\n",
    "WGNMFDiff, stratipyCompGNMFDiff, reconstruction_err_Diff = GNMF(np.matrix(mutDiffused),np.matrix(netFinal),gnmfFactor,n_components=3,tol=1e-3)\n",
    "WGNMFQDiff, stratipyCompGNMFQDiff, reconstruction_err_QDiff = GNMF(np.matrix(mutDiffused),np.matrix(netFinal),gnmfFactor,n_components=3,tol=1e-3)"
   ]
  },
  {
   "cell_type": "code",
   "execution_count": 0,
   "metadata": {
    "collapsed": false
   },
   "outputs": [],
   "source": [
    "plt.figure(1,figsize=(20,10))\n",
    "plt.subplot(611)\n",
    "plt.plot(stratipyCompG.T/stratipyCompGNMF.max())\n",
    "plt.ylabel(\"Weight\")\n",
    "plt.xlabel(\"Genes\")\n",
    "plt.title(\"NMF decomposition on raw mutation profiles\")\n",
    "plt.xlim([0,stratipyCompG.shape[1]])\n",
    "plt.subplot(612)\n",
    "plt.plot(stratipyCompGDiff.T/stratipyCompGNMFDiff.max())\n",
    "plt.ylabel(\"Weight\")\n",
    "plt.xlabel(\"Genes\")\n",
    "plt.title(\"NMF decomposition on diffused mutation profiles\")\n",
    "plt.xlim([0,stratipyCompGDiff.shape[1]])\n",
    "plt.subplot(613)\n",
    "plt.plot(stratipyCompGQDiff.T/stratipyCompGQDiff.max())\n",
    "plt.ylabel(\"Weight\")\n",
    "plt.xlabel(\"Genes\")\n",
    "plt.title(\"NMF decomposition on quantile normalized diffused mutation profiles\")\n",
    "plt.xlim([0,stratipyCompGDiff.shape[1]])\n",
    "plt.subplot(614)\n",
    "plt.plot(stratipyCompGNMF.T/stratipyCompG.max())\n",
    "plt.ylabel(\"Weight\")\n",
    "plt.xlabel(\"Genes\")\n",
    "plt.title(\"GNMF decomposition on raw mutation profiles\")\n",
    "plt.xlim([0,stratipyCompGNMF.shape[1]])\n",
    "plt.subplot(615)\n",
    "plt.plot(stratipyCompGNMFDiff.T/stratipyCompGDiff.max())\n",
    "plt.ylabel(\"Weight\")\n",
    "plt.xlabel(\"Genes\")\n",
    "plt.title(\"GNMF decomposition on diffused mutation profiles\")\n",
    "plt.xlim([0,stratipyCompGNMFDiff.shape[1]])\n",
    "plt.subplot(616)\n",
    "plt.plot(stratipyCompGNMFQDiff.T/stratipyCompGNMFQDiff.max())\n",
    "plt.ylabel(\"Weight\")\n",
    "plt.xlabel(\"Genes\")\n",
    "plt.title(\"GNMF decomposition on quantile normalized diffused mutation profiles\")\n",
    "plt.xlim([0,stratipyCompGNMFQDiff.shape[1]])\n",
    "plt.legend({'Component 1','Component 2','Component 3'})\n",
    "plt.show()"
   ]
  },
  {
   "cell_type": "code",
   "execution_count": 0,
   "metadata": {
    "collapsed": false
   },
   "outputs": [],
   "source": [
    "Stratification=np.argmax(stratipyCompGQDiff,axis=0)\n",
    "Weights=np.array([stratipyCompGQDiff[i,idx] for idx,i in enumerate(Stratification)])\n",
    "plt.figure(1,figsize=(16,5))\n",
    "plt.hist(Weights,200)\n",
    "plt.show()"
   ]
  },
  {
   "cell_type": "code",
   "execution_count": 0,
   "metadata": {
    "collapsed": false,
    "scrolled": true
   },
   "outputs": [],
   "source": [
    "for comp in range(3):\n",
    "    selectedGenes=symbols[((Stratification==comp)*(Weights>0.1))]\n",
    "    print comp+1,len(selectedGenes)\n",
    "    for g in selectedGenes:\n",
    "        print g[0][0]\n",
    "    print '\\n'"
   ]
  },
  {
   "cell_type": "code",
   "execution_count": 0,
   "metadata": {
    "collapsed": false
   },
   "outputs": [],
   "source": [
    "print \"Type of Cancers:\"\n",
    "for c in sorted(list(set(cancer))):\n",
    "    print \"- \"+c.capitalize()+\":\"\n",
    "    for p in range(3):\n",
    "        print \"Component\",p,\":\", np.round(1000*float(len([v for i,v in enumerate(np.argmax(WNMFDiff,axis=1)==p) if v and cancer[i]==c]))/np.sum(np.array([cancer[i]==c for i in range(WNMFDiff.shape[0])])))/10\n",
    "\n",
    "print \"\\nGrade of Cancers:\"\n",
    "for c in sorted(list(set(grade))):\n",
    "    print \"- \"+c.capitalize()+\":\"\n",
    "    for p in range(3):\n",
    "        print \"Component\",p,\":\", np.round(1000*float(len([v for i,v in enumerate(np.argmax(WNMFDiff,axis=1)==p) if v and grade[i]==c]))/np.sum(np.array([grade[i]==c for i in range(WNMFDiff.shape[0])])))/10"
   ]
  },
  {
   "cell_type": "markdown",
   "metadata": {},
   "source": [
    "# Consensus Clustering"
   ]
  },
  {
   "cell_type": "code",
   "execution_count": 0,
   "metadata": {
    "collapsed": false
   },
   "outputs": [],
   "source": [
    "patientsNum, genesNum = mutFinal.shape\n",
    "permutationsNum = 1000\n",
    "runBootstrap = False\n",
    "\n",
    "if runBootstrap:\n",
    "    genesClusteringNMF=np.zeros([genesNum,permutationsNum])*np.nan\n",
    "    patientsClusteringNMF=np.zeros([patientsNum,permutationsNum])*np.nan\n",
    "    genesClusteringNMFDiff=np.zeros([genesNum,permutationsNum])*np.nan\n",
    "    patientsClusteringNMFDiff=np.zeros([patientsNum,permutationsNum])*np.nan\n",
    "    genesClusteringNMFQDiff=np.zeros([genesNum,permutationsNum])*np.nan\n",
    "    patientsClusteringNMFQDiff=np.zeros([patientsNum,permutationsNum])*np.nan\n",
    "    genesClusteringGNMF=np.zeros([genesNum,permutationsNum])*np.nan\n",
    "    patientsClusteringGNMF=np.zeros([patientsNum,permutationsNum])*np.nan\n",
    "    genesClusteringGNMFDiff=np.zeros([genesNum,permutationsNum])*np.nan\n",
    "    patientsClusteringGNMFDiff=np.zeros([patientsNum,permutationsNum])*np.nan\n",
    "    genesClusteringGNMFQDiff=np.zeros([genesNum,permutationsNum])*np.nan\n",
    "    patientsClusteringGNMFQDiff=np.zeros([patientsNum,permutationsNum])*np.nan\n",
    "    for perm in range(permutationsNum):\n",
    "        patientsSelected=np.random.permutation(patientsNum)[0:int(patientsNum*0.8)]\n",
    "        genesSelected=np.random.permutation(genesNum)[0:int(genesNum*0.8)]\n",
    "        subselectionFiltered=mutFinal[patientsSelected,:][:,genesSelected]\n",
    "        subselectionDiffused=mutDiffused[patientsSelected,:][:,genesSelected]\n",
    "        subselectionQDiffused=mutQDiffused[patientsSelected,:][:,genesSelected]\n",
    "        subPPI=netFinal[genesSelected,:][:,genesSelected]\n",
    "        WNMF, stratipyCompNMF, reconstruction_err_ = GNMF(np.matrix(subselectionFiltered),np.matrix(subPPI),0.,n_components=3,tol=1e-3)\n",
    "        WNMFDiff, stratipyCompNMFDiff, reconstruction_err_Diff = GNMF(np.matrix(subselectionDiffused),np.matrix(subPPI),0.,n_components=3,tol=1e-3)\n",
    "        WNMFQDiff, stratipyCompNMFQDiff, reconstruction_err_QDiff = GNMF(np.matrix(subselectionQDiffused),np.matrix(subPPI),0.,n_components=3,tol=1e-3)\n",
    "        WGNMF, stratipyCompGNMF, reconstruction_err_ = GNMF(np.matrix(subselectionFiltered),np.matrix(subPPI),diffusionFactor,n_components=3,tol=1e-3)\n",
    "        WGNMFDiff, stratipyCompGNMFDiff, reconstruction_err_Diff = GNMF(np.matrix(subselectionDiffused),np.matrix(subPPI),diffusionFactor,n_components=3,tol=1e-3)\n",
    "        WGNMFQDiff, stratipyCompGNMFQDiff, reconstruction_err_QDiff = GNMF(np.matrix(subselectionQDiffused),np.matrix(subPPI),diffusionFactor,n_components=3,tol=1e-3)\n",
    "        genesClusteringNMF[genesSelected,perm]=np.argmax(stratipyCompNMF,axis=0)\n",
    "        genesClusteringNMFDiff[genesSelected,perm]=np.argmax(stratipyCompNMFDiff,axis=0)\n",
    "        genesClusteringNMFQDiff[genesSelected,perm]=np.argmax(stratipyCompNMFQDiff,axis=0)\n",
    "        genesClusteringGNMF[genesSelected,perm]=np.argmax(stratipyCompGNMF,axis=0)\n",
    "        genesClusteringGNMFDiff[genesSelected,perm]=np.argmax(stratipyCompGNMFDiff,axis=0)\n",
    "        genesClusteringGNMFQDiff[genesSelected,perm]=np.argmax(stratipyCompGNMFQDiff,axis=0)\n",
    "        patientsClusteringNMF[patientsSelected,perm]=np.argmax(WNMF,axis=1)\n",
    "        patientsClusteringNMFDiff[patientsSelected,perm]=np.argmax(WNMFDiff,axis=1)\n",
    "        patientsClusteringNMFQDiff[patientsSelected,perm]=np.argmax(WNMFQDiff,axis=1)\n",
    "        patientsClusteringGNMF[patientsSelected,perm]=np.argmax(WGNMF,axis=1)\n",
    "        patientsClusteringGNMFDiff[patientsSelected,perm]=np.argmax(WGNMFDiff,axis=1)\n",
    "        patientsClusteringGNMFQDiff[patientsSelected,perm]=np.argmax(WGNMFQDiff,axis=1)\n",
    "    savemat(dataFolder+'bootstrap.mat',{'genesClusteringNMF': genesClusteringNMF,\n",
    "                                        'patientsClusteringNMF': patientsClusteringNMF,\n",
    "                                        'genesClusteringNMFDiff': genesClusteringNMFDiff,\n",
    "                                        'patientsClusteringNMFDiff': patientsClusteringNMFDiff,\n",
    "                                        'genesClusteringNMFQDiff': genesClusteringNMFQDiff,\n",
    "                                        'patientsClusteringNMFQDiff': patientsClusteringNMFQDiff,\n",
    "                                        'genesClusteringGNMF': genesClusteringGNMF,\n",
    "                                        'patientsClusteringGNMF': patientsClusteringGNMF,\n",
    "                                        'genesClusteringGNMFDiff': genesClusteringGNMFDiff,\n",
    "                                        'patientsClusteringGNMFDiff': patientsClusteringGNMFDiff,\n",
    "                                        'genesClusteringGNMFQDiff': genesClusteringGNMFQDiff,\n",
    "                                        'patientsClusteringGNMFQDiff': patientsClusteringGNMFQDiff},\n",
    "            do_compression=True)\n",
    "else:\n",
    "    bootstrap_data = loadmat(dataFolder+'bootstrap.mat')\n",
    "    genesClusteringNMF=bootstrap_data['genesClusteringNMF']\n",
    "    patientsClusteringNMF=bootstrap_data['patientsClusteringNMF']\n",
    "    genesClusteringNMFDiff=bootstrap_data['genesClusteringNMFDiff']\n",
    "    patientsClusteringNMFDiff=bootstrap_data['patientsClusteringNMFDiff']\n",
    "    genesClusteringNMFQDiff=bootstrap_data['genesClusteringNMFQDiff']\n",
    "    patientsClusteringNMFQDiff=bootstrap_data['patientsClusteringNMFQDiff']\n",
    "    genesClusteringGNMF=bootstrap_data['genesClusteringGNMF']\n",
    "    patientsClusteringGNMF=bootstrap_data['patientsClusteringGNMF']\n",
    "    genesClusteringGNMFDiff=bootstrap_data['genesClusteringGNMFDiff']\n",
    "    patientsClusteringGNMFDiff=bootstrap_data['patientsClusteringGNMFDiff']\n",
    "    genesClusteringGNMFQDiff=bootstrap_data['genesClusteringGNMFQDiff']\n",
    "    patientsClusteringGNMFQDiff=bootstrap_data['patientsClusteringGNMFQDiff']"
   ]
  },
  {
   "cell_type": "code",
   "execution_count": 0,
   "metadata": {
    "collapsed": false
   },
   "outputs": [],
   "source": [
    "import itertools\n",
    "from scipy.spatial.distance import pdist\n",
    "\n",
    "def ConcensusClustering(mat):\n",
    "    distance = np.zeros([patientsClusteringGNMFDiff.shape[0], patientsClusteringGNMFDiff.shape[0]])\n",
    "    for patient1 in range(mat.shape[0]):\n",
    "        for patient2 in range(patient1+1,mat.shape[0]):\n",
    "            I=(np.isnan(mat[[patient1,patient2],:]).sum(axis=0)==0).sum()\n",
    "            M=(mat[patient1,:]==mat[patient2,:]).sum()\n",
    "            distance[patient1,patient2]=float(M)/I\n",
    "            distance[patient2,patient1]=float(M)/I\n",
    "    return distance\n",
    "\n",
    "def JaccardDistance(mat):\n",
    "    return squareform(np.array([pdist(mat[s][:, ~np.isnan(mat[s]).any(axis=0)], \"jaccard\") for s in map(list, itertools.combinations(range(mat.shape[0]), 2))]).ravel())"
   ]
  },
  {
   "cell_type": "code",
   "execution_count": 0,
   "metadata": {
    "collapsed": false
   },
   "outputs": [],
   "source": [
    "dataNMF = patientsClusteringNMF\n",
    "dataNMFDiff = patientsClusteringNMFDiff\n",
    "dataNMFQDiff = patientsClusteringNMFQDiff\n",
    "dataGNMF = patientsClusteringGNMF\n",
    "dataGNMFDiff = patientsClusteringGNMFDiff\n",
    "dataGNMFQDiff = patientsClusteringGNMFQDiff\n",
    "dNMF = ConcensusClustering(dataNMF)\n",
    "dNMFDiff = ConcensusClustering(dataNMFDiff)\n",
    "dNMFQDiff = ConcensusClustering(dataNMFQDiff)\n",
    "dGNMF = ConcensusClustering(dataGNMF)\n",
    "dGNMFDiff = ConcensusClustering(dataGNMFDiff)\n",
    "dGNMFQDiff = ConcensusClustering(dataGNMFQDiff)"
   ]
  },
  {
   "cell_type": "code",
   "execution_count": 0,
   "metadata": {
    "collapsed": false
   },
   "outputs": [],
   "source": [
    "plt.figure(1,figsize=(20,10))\n",
    "plt.subplot(321)\n",
    "plt.imshow((dNMF))\n",
    "plt.title('NMF')\n",
    "plt.subplot(322)\n",
    "plt.imshow((dNMFDiff))\n",
    "plt.title('NMF Diff')\n",
    "plt.subplot(323)\n",
    "plt.imshow((dGNMF))\n",
    "plt.title('GNMF')\n",
    "plt.subplot(324)\n",
    "plt.imshow((dGNMFDiff))\n",
    "plt.title('GNMF Diff')\n",
    "plt.subplot(325)\n",
    "plt.imshow((dNMFQDiff))\n",
    "plt.title('NMF QDiff')\n",
    "plt.subplot(326)\n",
    "plt.imshow((dGNMFQDiff))\n",
    "plt.title('GNMF QDiff')"
   ]
  },
  {
   "cell_type": "code",
   "execution_count": 0,
   "metadata": {
    "collapsed": false
   },
   "outputs": [],
   "source": [
    "from scipy.cluster.hierarchy import linkage\n",
    "ZNMF = linkage(dNMF)\n",
    "ZNMFDiff = linkage(dNMFDiff)\n",
    "ZNMFQDiff = linkage(dNMFQDiff)\n",
    "ZGNMF = linkage(dGNMF)\n",
    "ZGNMFDiff = linkage(dGNMFDiff)\n",
    "ZGNMFQDiff = linkage(dGNMFQDiff)\n",
    "from scipy.cluster.hierarchy import fcluster\n",
    "clNMF = fcluster(ZNMF,1)\n",
    "clNMFDiff = fcluster(ZNMFDiff,1)\n",
    "clNMFQDiff = fcluster(ZNMFQDiff,1)\n",
    "clGNMF = fcluster(ZGNMF,1)\n",
    "clGNMFDiff = fcluster(ZGNMFDiff,1)\n",
    "clGNMFQDiff = fcluster(ZGNMFQDiff,1)"
   ]
  },
  {
   "cell_type": "code",
   "execution_count": 0,
   "metadata": {
    "collapsed": false
   },
   "outputs": [],
   "source": [
    "from scipy.cluster.hierarchy import dendrogram\n",
    "plt.figure(1,figsize=(16,16))\n",
    "plt.subplot(611)\n",
    "a=dendrogram(ZNMF,count_sort='ascending');\n",
    "idxNMF=np.array(a['leaves'])\n",
    "plt.title('NMF')\n",
    "plt.subplot(612)\n",
    "a=dendrogram(ZNMFDiff,count_sort='ascending');\n",
    "idxNMFDiff=np.array(a['leaves'])\n",
    "plt.title('NMF Diff')\n",
    "plt.subplot(613)\n",
    "a=dendrogram(ZNMFQDiff,count_sort='ascending');\n",
    "idxNMFQDiff=np.array(a['leaves'])\n",
    "plt.title('NMF QDiff')\n",
    "plt.subplot(614)\n",
    "a=dendrogram(ZGNMF,count_sort='ascending');\n",
    "idxGNMF=np.array(a['leaves'])\n",
    "plt.title('GNMF')\n",
    "plt.subplot(615)\n",
    "a=dendrogram(ZGNMFDiff,count_sort='ascending');\n",
    "idxGNMFDiff=np.array(a['leaves'])\n",
    "plt.title('GNMF Diff')\n",
    "plt.subplot(616)\n",
    "a=dendrogram(ZGNMFQDiff,count_sort='ascending');\n",
    "idxGNMFQDiff=np.array(a['leaves'])\n",
    "plt.title('GNMF Diff')"
   ]
  },
  {
   "cell_type": "code",
   "execution_count": 0,
   "metadata": {
    "collapsed": false
   },
   "outputs": [],
   "source": [
    "for cl in set(a['color_list']):\n",
    "    selectedPatients=[(i,e==cl) for i,e in enumerate(a['color_list'])]\n",
    "    print cl, np.array([v for u,v in selectedPatients]).sum()\n",
    "    print [grade[k] for k in [u for u,v in selectedPatients if v]]"
   ]
  },
  {
   "cell_type": "code",
   "execution_count": 0,
   "metadata": {
    "collapsed": false
   },
   "outputs": [],
   "source": [
    "plt.figure(1,figsize=(20,10))\n",
    "plt.subplot(321)\n",
    "plt.imshow(dNMF[idxNMF,:][:,idxNMF])\n",
    "plt.title('NMF')\n",
    "plt.subplot(322)\n",
    "plt.imshow(dGNMF[idxGNMF,:][:,idxGNMF])\n",
    "plt.title('GNMF')\n",
    "plt.subplot(323)\n",
    "plt.imshow(dNMFDiff[idxNMFDiff,:][:,idxNMFDiff])\n",
    "plt.title('NMF Diff')\n",
    "plt.subplot(324)\n",
    "plt.imshow(dGNMFDiff[idxGNMFDiff,:][:,idxGNMFDiff])\n",
    "plt.title('GNMF Diff')\n",
    "plt.subplot(325)\n",
    "plt.imshow(dNMFQDiff[idxNMFQDiff,:][:,idxNMFQDiff])\n",
    "plt.title('NMF QDiff')\n",
    "plt.subplot(326)\n",
    "plt.imshow(dGNMFQDiff[idxGNMFQDiff,:][:,idxGNMFQDiff])\n",
    "plt.title('GNMF QDiff')"
   ]
  },
  {
   "cell_type": "markdown",
   "metadata": {},
   "source": [
    "## Network visualization"
   ]
  },
  {
   "cell_type": "code",
   "execution_count": 0,
   "metadata": {
    "collapsed": false
   },
   "outputs": [],
   "source": [
    "import pandas as pd\n",
    "tmp=[k for i,k in enumerate(good+bad) if degree[i]>0]\n",
    "selectedGenes=[k for i,k in enumerate(tmp) if notAlone[i]]\n",
    "\n",
    "df0=pd.DataFrame({'EntrezId':[g[0] for g in somatic['gene_id_all'][selectedGenes]],'Genes':[g[0][0] for g in somatic['gene_id_symbol'][selectedGenes]]})\n",
    "df1=pd.DataFrame({'StartiPyDiff_1':stratipyCompGDiff[0,:].T,'StartiPyDiff_2':stratipyCompGDiff[1,:].T,'StartiPyDiff_3':stratipyCompGDiff[2,:].T,'StratiPyDiff_W':stratipyCompGDiff.sum(axis=0).T,'StratiPyDiff_Comp':np.argmax(stratipyCompGDiff, axis=0).T})\n",
    "df2=pd.DataFrame({'StartiPy_1':stratipyCompG[0,:].T,'StartiPy_2':stratipyCompG[1,:].T,'StartiPy_3':stratipyCompG[2,:].T,'StratiPy_W':stratipyCompG.sum(axis=0).T,'StratiPy_Comp':np.argmax(stratipyCompG, axis=0).T})\n",
    "df3=pd.DataFrame({'NNF_1':sklearnComp[0,:].T,'NNF_2':sklearnComp[1,:].T,'NNF_3':sklearnComp[2,:].T,'NNF_W':sklearnComp.sum(axis=0).T,'NNF_Comp':np.argmax(sklearnComp, axis=0).T})\n",
    "df4=pd.DataFrame({'NNFDiff_1':sklearnCompDiff[0,:].T,'NNFDiff_2':sklearnCompDiff[1,:].T,'NNFDiff_3':sklearnCompDiff[2,:].T,'NNFDiff_W':sklearnCompDiff.sum(axis=0).T,'NNFDiff_Comp':np.argmax(sklearnCompDiff, axis=0).T})\n",
    "pd.concat([df0,df1,df2,df3,df4],axis=1).to_csv(dataFolder+'StratificationResults.csv')"
   ]
  },
  {
   "cell_type": "code",
   "execution_count": 0,
   "metadata": {
    "collapsed": false
   },
   "outputs": [],
   "source": [
    "import networkx as nx\n",
    "H=nx.from_numpy_matrix(np.matrix(nnnetFiltered))\n",
    "nx.write_edgelist(H, dataFolder+\"Hofree-edgelist.csv\")"
   ]
  },
  {
   "cell_type": "code",
   "execution_count": 0,
   "metadata": {
    "collapsed": false
   },
   "outputs": [],
   "source": [
    "plt.figure(1,figsize=(16,10))\n",
    "pos=nx.graphviz_layout(H,prog=\"neato\")\n",
    "node_color=np.argmax(stratipyCompGDiff, axis=0)\n",
    "nx.draw(H,pos,with_labels=False,node_size=50,node_color=node_color,cmap = plt.cm.Pastel1)\n",
    "cut = 1.05\n",
    "xmax= cut*max(xx for xx,yy in pos.values())\n",
    "ymax= cut*max(yy for xx,yy in pos.values())\n",
    "plt.xlim(0,xmax)\n",
    "plt.ylim(0,ymax)\n",
    "plt.show()"
   ]
  },
  {
   "cell_type": "markdown",
   "metadata": {},
   "source": [
    "## Check the effects of the parameters"
   ]
  },
  {
   "cell_type": "code",
   "execution_count": 0,
   "metadata": {
    "collapsed": false,
    "scrolled": true
   },
   "outputs": [],
   "source": [
    "err=np.zeros((20,11))\n",
    "for ncomp in range(20):\n",
    "    for smooth in range(11):\n",
    "        print \"Ncomp=\",ncomp+1,\" Smooth=\",smooth/10.,\n",
    "        WDiff2,stratipyCompGDiff2,error = GNMF(np.matrix(mutFinal),np.matrix(netFinal),smooth/10.,n_components=ncomp+1,tol=1e-3,max_iter=5)\n",
    "        err[ncomp,smooth]=error\n",
    "        print \" Error=\",error"
   ]
  },
  {
   "cell_type": "code",
   "execution_count": 0,
   "metadata": {
    "collapsed": false,
    "scrolled": true
   },
   "outputs": [],
   "source": [
    "err2=np.zeros((20,11))\n",
    "for ncomp in range(20):\n",
    "    for smooth in range(11):\n",
    "        print \"Ncomp=\",ncomp+1,\" Smooth=\",smooth/10.,\n",
    "        WDiff2,stratipyCompGDiff2,error = GNMF(np.matrix(mutQDiffused),np.matrix(netFinal),smooth/10.,n_components=ncomp+1,tol=1e-3,max_iter=5)\n",
    "        err2[ncomp,smooth]=error\n",
    "        print \" Error=\",error"
   ]
  },
  {
   "cell_type": "code",
   "execution_count": 0,
   "metadata": {
    "collapsed": false
   },
   "outputs": [],
   "source": [
    "plt.figure(figsize=(20,11))\n",
    "plt.subplot(121)\n",
    "plt.imshow(err, interpolation=\"nearest\")\n",
    "plt.gca().invert_yaxis()\n",
    "plt.xticks(np.arange(11),np.arange(11)/10.)\n",
    "plt.yticks(np.arange(20),np.arange(20)+1)\n",
    "plt.ylabel(\"Number of Component(s)\")\n",
    "plt.xlabel(\"Smoothing factor\")\n",
    "plt.title(\"Absolute error\")\n",
    "plt.colorbar()\n",
    "plt.subplot(122)\n",
    "plt.imshow(err-np.matrix(np.mean(err,axis=1)).T*np.matrix(np.ones(11)), interpolation=\"nearest\")\n",
    "plt.gca().invert_yaxis()\n",
    "plt.xticks(np.arange(11),np.arange(11)/10.)\n",
    "plt.yticks(np.arange(20),np.arange(20)+1)\n",
    "plt.ylabel(\"Number of Component(s)\")\n",
    "plt.xlabel(\"Smoothing factor\")\n",
    "plt.title(\"Relative error by number of component\")\n",
    "plt.colorbar()\n",
    "plt.show()"
   ]
  },
  {
   "cell_type": "code",
   "execution_count": 0,
   "metadata": {
    "collapsed": false
   },
   "outputs": [],
   "source": [
    "plt.figure(figsize=(20,10))\n",
    "plt.subplot(121)\n",
    "plt.imshow(err2, interpolation=\"nearest\")\n",
    "plt.gca().invert_yaxis()\n",
    "plt.xticks(np.arange(11),np.arange(11)/10.)\n",
    "plt.yticks(np.arange(20),np.arange(20)+1)\n",
    "plt.ylabel(\"Number of Component(s)\")\n",
    "plt.xlabel(\"Smoothing factor\")\n",
    "plt.title(\"Absolute error\")\n",
    "plt.colorbar()\n",
    "plt.subplot(122)\n",
    "plt.imshow(err2-np.matrix(np.mean(err2,axis=1)).T*np.matrix(np.ones(11)), interpolation=\"nearest\")\n",
    "plt.gca().invert_yaxis()\n",
    "plt.xticks(np.arange(11),np.arange(11)/10.)\n",
    "plt.yticks(np.arange(20),np.arange(20)+1)\n",
    "plt.ylabel(\"Number of Component(s)\")\n",
    "plt.xlabel(\"Smoothing factor\")\n",
    "plt.title(\"Relative error by number of component\")\n",
    "plt.colorbar()\n",
    "plt.show()"
   ]
  },
  {
   "cell_type": "code",
   "execution_count": 0,
   "metadata": {
    "collapsed": false
   },
   "outputs": [],
   "source": [
    "plt.figure(figsize=(16,10))\n",
    "plt.subplot(121)\n",
    "plt.plot(np.vstack((err.mean(axis=1)-err.mean(),err2.mean(axis=1)-err2.mean())).T)\n",
    "plt.ylabel(\"Average relative reconstruction error\")\n",
    "plt.xlabel(\"Number of Component(s)\")\n",
    "plt.subplot(122)\n",
    "plt.plot(np.vstack((err.mean(axis=0)-err.mean(),err2.mean(axis=0)-err2.mean())).T)\n",
    "plt.ylabel(\"Average relative reconstruction error\")\n",
    "plt.xlabel(\"Smoothing factor\")\n",
    "plt.legend({\"Diffused\",\"Filtered\"})\n",
    "plt.show()"
   ]
  },
  {
   "cell_type": "markdown",
   "metadata": {},
   "source": [
    "## Under construction ..."
   ]
  }
 ],
 "metadata": {
  "kernelspec": {
   "display_name": "Python 2",
   "language": "python",
   "name": "python2"
  },
  "language_info": {
   "codemirror_mode": {
    "name": "ipython",
    "version": 2
   },
   "file_extension": ".py",
   "mimetype": "text/x-python",
   "name": "python",
   "nbconvert_exporter": "python",
   "pygments_lexer": "ipython2",
   "version": "2.7.11"
  }
 },
 "nbformat": 4,
 "nbformat_minor": 0
}
